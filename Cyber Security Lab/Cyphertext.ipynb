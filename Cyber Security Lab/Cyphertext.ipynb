{
  "nbformat": 4,
  "nbformat_minor": 0,
  "metadata": {
    "colab": {
      "provenance": []
    },
    "kernelspec": {
      "name": "python3",
      "display_name": "Python 3"
    },
    "language_info": {
      "name": "python"
    }
  },
  "cells": [
    {
      "cell_type": "code",
      "execution_count": null,
      "metadata": {
        "colab": {
          "base_uri": "https://localhost:8080/"
        },
        "id": "MMn-6FraOdqU",
        "outputId": "f4fddc2d-a493-4556-fe4b-f3639856524a"
      },
      "outputs": [
        {
          "output_type": "stream",
          "name": "stdout",
          "text": [
            "Enter the key (26 unique letters): qwertyuioplkjhgfdsazxcvbnm\n",
            "Enter the plaintext: shamim\n",
            "Encrypted text: AIQJOJ\n",
            "Decrypted text: SHAMIM\n"
          ]
        }
      ],
      "source": [
        "def get_user_key():\n",
        "    key = input(\"Enter the key (26 unique letters): \").upper()\n",
        "    if len(key) != 26 or not key.isalpha() or len(set(key)) != 26:\n",
        "        print(\"Invalid key. Please enter 26 unique letters.\")\n",
        "        return get_user_key()\n",
        "    return dict(zip(\"ABCDEFGHIJKLMNOPQRSTUVWXYZ\", key))\n",
        "\n",
        "def encrypt(plaintext, key):\n",
        "    ciphertext = \"\".join([key.get(char, char) for char in plaintext.upper()])\n",
        "    return ciphertext\n",
        "\n",
        "def decrypt(ciphertext, key):\n",
        "    decryption_key = {v: k for k, v in key.items()}\n",
        "    plaintext = \"\".join([decryption_key.get(char, char) for char in ciphertext.upper()])\n",
        "    return plaintext\n",
        "\n",
        "# Example usage:\n",
        "user_key = get_user_key()\n",
        "plaintext = input(\"Enter the plaintext: \").upper()\n",
        "\n",
        "encrypted_text = encrypt(plaintext, user_key)\n",
        "print(\"Encrypted text:\", encrypted_text)\n",
        "\n",
        "decrypted_text = decrypt(encrypted_text, user_key)\n",
        "print(\"Decrypted text:\", decrypted_text)"
      ]
    }
  ]
}