{
  "nbformat": 4,
  "nbformat_minor": 0,
  "metadata": {
    "colab": {
      "provenance": []
    },
    "kernelspec": {
      "display_name": "Python 3",
      "language": "python",
      "name": "python3"
    },
    "language_info": {
      "codemirror_mode": {
        "name": "ipython",
        "version": 3
      },
      "file_extension": ".py",
      "mimetype": "text/x-python",
      "name": "python",
      "nbconvert_exporter": "python",
      "pygments_lexer": "ipython3",
      "version": "3.7.4"
    },
    "gpuClass": "standard"
  },
  "cells": [
    {
      "cell_type": "markdown",
      "source": [
        "# My heading\n",
        "lksdkfd\n",
        "jnkjzdfzkfn"
      ],
      "metadata": {
        "id": "uSTxuMTPRxH_"
      }
    },
    {
      "cell_type": "markdown",
      "source": [
        "ajdgjag agdjagj jagjd kagbjksg kadkjakh"
      ],
      "metadata": {
        "id": "9leb2UITMtUt"
      }
    },
    {
      "cell_type": "code",
      "source": [
        "print('bfsdfkbskj')"
      ],
      "metadata": {
        "id": "p6Y5J_SRR5fm"
      },
      "execution_count": null,
      "outputs": []
    },
    {
      "cell_type": "code",
      "source": [
        "print('hellow world')"
      ],
      "metadata": {
        "id": "BN8C86WiM6Wl"
      },
      "execution_count": null,
      "outputs": []
    },
    {
      "cell_type": "markdown",
      "source": [],
      "metadata": {
        "id": "PJdbglA1uXIT"
      }
    },
    {
      "cell_type": "markdown",
      "source": [
        "weqweiuhi kjaifdab kjbadiba nbjabhdajbd kjbadkjbak"
      ],
      "metadata": {
        "id": "y55Zr_Ik9nQ6"
      }
    },
    {
      "cell_type": "markdown",
      "source": [
        "tdgdgd..ddye.ehjiet ekjtkoejtoeoejeotjeotj\n",
        "\n",
        "\n",
        "1.   List item\n",
        "2.   List item\n",
        "\n",
        "\n"
      ],
      "metadata": {
        "id": "rqV3KU96NHk6"
      }
    },
    {
      "cell_type": "code",
      "source": [
        "x = 10\n",
        "print('jvgndfkjgdnfkjg')\n",
        "x"
      ],
      "metadata": {
        "id": "qyN2SncIof5K"
      },
      "execution_count": null,
      "outputs": []
    },
    {
      "cell_type": "code",
      "metadata": {
        "id": "Mo3GzmDLNsp9"
      },
      "source": [
        "x = 10\n",
        "y= \"World\"\n",
        "print(f\"Hello There {x} and {y}\")"
      ],
      "execution_count": null,
      "outputs": []
    },
    {
      "cell_type": "code",
      "source": [
        "print(\"Hello There\" + y + \"  \" + str(x))"
      ],
      "metadata": {
        "id": "WfXs0d-mnYgN"
      },
      "execution_count": null,
      "outputs": []
    },
    {
      "cell_type": "code",
      "metadata": {
        "id": "po9QaYLZOfTy"
      },
      "source": [
        "\"\"\"\n",
        "  sample Comments\n",
        "  gkl;df;gjdfg kljkl\n",
        "  kljfnnk\n",
        "  jklsnfjknsdjknf\n",
        "  fklsdjnfsdlfnklsfnl\n",
        "\"\"\"\n",
        "\n",
        "print(\"hellow world\")\n",
        "print(\"hellow world\")\n",
        "print(\"hellow world\")\n",
        "print(\"hellow world\")\n",
        "print(\"hellow world\")\n",
        "print(\"hellow world\")\n",
        "\"\"\"\n",
        "  sample Comments\n",
        "  gkl;df;gjdfg kljkl\n",
        "  kljfnnk\n",
        "  jklsnfjknsdjknf\n",
        "  fklsdjnfsdlfnklsfnl\n",
        "\"\"\"\n",
        "print(\"hellow world\")\n",
        "print(\"hellow world\")\n",
        "print(\"hellow world\")\n",
        "print(\"hellow world\")\n",
        "print(\"hellow world\")\n",
        "print(\"hellow world\")\n",
        "print(\"hellow world\")"
      ],
      "execution_count": null,
      "outputs": []
    },
    {
      "cell_type": "markdown",
      "metadata": {
        "id": "wP9Fg_kzPF-J"
      },
      "source": [
        "We use print() frequently in any code snippet.\n",
        "print() will help us to find any error in our $log$ file."
      ]
    },
    {
      "cell_type": "code",
      "metadata": {
        "id": "XhKB8wkXOzRT"
      },
      "source": [
        "cse_4_2 = ['fsdfsd', 'f', 1, 2, 3, 4]\n",
        "print(cse_4_2)\n",
        "print(type(cse_4_2))"
      ],
      "execution_count": null,
      "outputs": []
    },
    {
      "cell_type": "code",
      "source": [
        "max(cse_4_2)"
      ],
      "metadata": {
        "id": "ANQWNg7ZUOwe"
      },
      "execution_count": null,
      "outputs": []
    },
    {
      "cell_type": "code",
      "source": [
        "len(cse_4_2)"
      ],
      "metadata": {
        "id": "pw0L-IvsoIOF"
      },
      "execution_count": null,
      "outputs": []
    },
    {
      "cell_type": "code",
      "source": [
        "cse_4_2 = [1, 2, 3, 4, []]\n",
        "print(cse_4_2)\n",
        "print(type(cse_4_2))"
      ],
      "metadata": {
        "id": "gLe3dKg9oR1l"
      },
      "execution_count": null,
      "outputs": []
    },
    {
      "cell_type": "code",
      "source": [
        "max(cse_4_2)"
      ],
      "metadata": {
        "id": "If7kNL0B13b5"
      },
      "execution_count": null,
      "outputs": []
    },
    {
      "cell_type": "code",
      "source": [
        "sum(cse_4_2)"
      ],
      "metadata": {
        "id": "D1zXfi3roYz0"
      },
      "execution_count": null,
      "outputs": []
    },
    {
      "cell_type": "code",
      "source": [
        "cse_4_2 = [1, 2, 3, 4, 2.222]\n",
        "print(min(cse_4_2))\n",
        "print(max(cse_4_2))"
      ],
      "metadata": {
        "id": "fKS72j5r1-Mm"
      },
      "execution_count": null,
      "outputs": []
    },
    {
      "cell_type": "code",
      "source": [
        "def my_func(a, b,c = 10):\n",
        "  return a+b+c\n",
        "\n",
        "my_func(10,10)"
      ],
      "metadata": {
        "id": "U8a1phEeWHFd"
      },
      "execution_count": null,
      "outputs": []
    },
    {
      "cell_type": "code",
      "source": [
        "(range(0,10,2))"
      ],
      "metadata": {
        "id": "ms61wZM3VsmO"
      },
      "execution_count": null,
      "outputs": []
    },
    {
      "cell_type": "code",
      "source": [
        "my_list = [1,2,3,4,5,100]"
      ],
      "metadata": {
        "id": "blvix53iWsil"
      },
      "execution_count": null,
      "outputs": []
    },
    {
      "cell_type": "code",
      "source": [
        "list(range(len(my_list)))"
      ],
      "metadata": {
        "id": "pYuNkXZIW-k_"
      },
      "execution_count": null,
      "outputs": []
    },
    {
      "cell_type": "code",
      "source": [
        "list(range(0,10))"
      ],
      "metadata": {
        "id": "2fyOp10ZO3BS"
      },
      "execution_count": null,
      "outputs": []
    },
    {
      "cell_type": "code",
      "source": [
        "list(range(0,5, 2))"
      ],
      "metadata": {
        "id": "bTNM-W7ROILr"
      },
      "execution_count": null,
      "outputs": []
    },
    {
      "cell_type": "code",
      "source": [
        "list(range(0,5, 2))"
      ],
      "metadata": {
        "id": "Z-5fC5Uevl0J"
      },
      "execution_count": null,
      "outputs": []
    },
    {
      "cell_type": "code",
      "source": [
        "list(range(10,20, 5))"
      ],
      "metadata": {
        "id": "aEMO0GpWpr-g"
      },
      "execution_count": null,
      "outputs": []
    },
    {
      "cell_type": "code",
      "source": [
        "list(range(3,10,2))"
      ],
      "metadata": {
        "id": "F3cB0X4qoi-1"
      },
      "execution_count": null,
      "outputs": []
    },
    {
      "cell_type": "code",
      "source": [
        "list(range(3,19,3))"
      ],
      "metadata": {
        "id": "rV31SxYF3M7y"
      },
      "execution_count": null,
      "outputs": []
    },
    {
      "cell_type": "code",
      "source": [
        "print(list(range(2,10,2)))"
      ],
      "metadata": {
        "id": "9m3pGumTgeo4"
      },
      "execution_count": null,
      "outputs": []
    },
    {
      "cell_type": "code",
      "source": [
        "list(range(len(cse_4_2)))"
      ],
      "metadata": {
        "id": "sWZWIs08_JCZ"
      },
      "execution_count": null,
      "outputs": []
    },
    {
      "cell_type": "code",
      "source": [
        "cse_4_2"
      ],
      "metadata": {
        "id": "II46r6NohAuQ"
      },
      "execution_count": null,
      "outputs": []
    },
    {
      "cell_type": "code",
      "source": [
        "cse_4_2[1]"
      ],
      "metadata": {
        "id": "gIIxGWLthFGm"
      },
      "execution_count": null,
      "outputs": []
    },
    {
      "cell_type": "code",
      "source": [
        "cse_4_2 = [1, 2, 3, 4, 2.222]"
      ],
      "metadata": {
        "id": "rDsgcJ0PpFK7"
      },
      "execution_count": null,
      "outputs": []
    },
    {
      "cell_type": "code",
      "source": [
        "list(range(len(cse_4_2)))"
      ],
      "metadata": {
        "id": "PUfSkBw-PtUU"
      },
      "execution_count": null,
      "outputs": []
    },
    {
      "cell_type": "code",
      "source": [
        "list(range(len(cse_4_2)))"
      ],
      "metadata": {
        "id": "dfHwq5PuqnH1"
      },
      "execution_count": null,
      "outputs": []
    },
    {
      "cell_type": "code",
      "source": [
        "list(range(len(cse_4_2)))"
      ],
      "metadata": {
        "id": "0M8IOBeJzIQP"
      },
      "execution_count": null,
      "outputs": []
    },
    {
      "cell_type": "code",
      "source": [
        "for x in range(len(cse_4_2)):\n",
        "  print(cse_4_2[x])"
      ],
      "metadata": {
        "id": "VmScMC5qpKfE"
      },
      "execution_count": null,
      "outputs": []
    },
    {
      "cell_type": "code",
      "source": [
        "for x in cse_4_2:\n",
        "  print(x)"
      ],
      "metadata": {
        "id": "jcy1aH1YQb7f"
      },
      "execution_count": null,
      "outputs": []
    },
    {
      "cell_type": "code",
      "source": [
        "for i in range(len(cse_4_2)):\n",
        "  cse_4_2[i] += 2\n",
        "print(cse_4_2)"
      ],
      "metadata": {
        "id": "CpGbOimZq2Ym"
      },
      "execution_count": null,
      "outputs": []
    },
    {
      "cell_type": "code",
      "metadata": {
        "id": "QiZbX20VQVxr"
      },
      "source": [
        "for i in cse_4_2:\n",
        "  print(i)"
      ],
      "execution_count": null,
      "outputs": []
    },
    {
      "cell_type": "code",
      "source": [],
      "metadata": {
        "id": "hVMoSYQghY8u"
      },
      "execution_count": null,
      "outputs": []
    },
    {
      "cell_type": "code",
      "metadata": {
        "id": "UNXm4NCWQtGx"
      },
      "source": [
        "list1 = [1, 2, 3, 0, 5, 6]\n",
        "# list1 = [0,None,1]\n",
        "\n",
        "\n",
        "# # any will return true if any of the sequence values are true\n",
        "print(any(list1))\n",
        "\n",
        "# # all will return true only if all values are true\n",
        "print(all(list1))"
      ],
      "execution_count": null,
      "outputs": []
    },
    {
      "cell_type": "code",
      "metadata": {
        "id": "WdjsR6gORSe7"
      },
      "source": [
        "list1 = [1, 2, 3, 0, 5, 6]\n",
        "\n",
        "# # min and max will return minimum and maximum values in a sequence\n",
        "print(\"min: \", min(list1))\n",
        "print(\"max: \", max(list1))\n",
        "# #\n",
        "# # Use sum() to sum up all of the values in a sequence\n",
        "print(\"sum: \", sum(list1))"
      ],
      "execution_count": null,
      "outputs": []
    },
    {
      "cell_type": "code",
      "metadata": {
        "id": "jVFm8_AiRr5z"
      },
      "source": [
        "# Iterating Over the Items of a List\n",
        "L = ['Tony was chased', 'Bruce was angered', 'Steven was scared ']\n",
        "# print each string in the list L\n",
        "for x in L:\n",
        "    print(x)\n",
        "for i in range(len(L)):\n",
        "    L[i] = L[i] +'x'\n",
        "print(L)"
      ],
      "execution_count": null,
      "outputs": []
    },
    {
      "cell_type": "code",
      "metadata": {
        "id": "qecxPRfdR-OM"
      },
      "source": [
        "#@title 0, 1, 2\n",
        "for i in range (len (L)):\n",
        "    L[i] = L[i] + ' by zombies.'\n",
        "\n",
        "for x in L:\n",
        "    print(x)"
      ],
      "execution_count": null,
      "outputs": []
    },
    {
      "cell_type": "code",
      "metadata": {
        "id": "OfQYsAYt-RHT"
      },
      "source": [
        "x = [1, 2, 3]\n",
        "x.append([4, 5]) # [1,2,3,[4, 5]]\n",
        "print(x)\n",
        "x.append(6) # [1,2,3,[4, 5], 6]\n",
        "print(x)\n",
        "x.extend([8, 9])\n",
        "print(x) # [1,2,3,[4, 5] ,6,  8 , 9]\n",
        "x.append(5)  # [1,2,3,[4, 5] , 8 , 9, 5]\n",
        "print(x)"
      ],
      "execution_count": null,
      "outputs": []
    },
    {
      "cell_type": "code",
      "source": [
        "x = [1, 2, 3]\n",
        "x.extend(8) # extend needs an iterable object"
      ],
      "metadata": {
        "id": "3YkD1sOL8BAb"
      },
      "execution_count": null,
      "outputs": []
    },
    {
      "cell_type": "code",
      "source": [
        "x = [1, 2, 3]\n",
        "x.extend((2,3,4)) # extend needs an iterable object\n",
        "x"
      ],
      "metadata": {
        "id": "XjLXQvo58MqV"
      },
      "execution_count": null,
      "outputs": []
    },
    {
      "cell_type": "code",
      "metadata": {
        "id": "90fDG8dr_Ffn",
        "scrolled": true
      },
      "source": [
        "# # define a list of days in English and French\n",
        "days = [\"Sun\", \"Mon\", \"Tue\", \"Wed\", \"Thu\", \"Fri\", \"Sat\"]\n",
        "daysFr = [\"Dim\", \"Lun\", \"Mar\", \"Mer\", \"Jeu\", \"Ven\", \"Sam\"]\n",
        "# # use regular interation over the days\n",
        "for m in range(len(days)):\n",
        "  print(days[m],m)"
      ],
      "execution_count": null,
      "outputs": []
    },
    {
      "cell_type": "code",
      "source": [
        "days"
      ],
      "metadata": {
        "id": "rBQVPlJEyXlS"
      },
      "execution_count": null,
      "outputs": []
    },
    {
      "cell_type": "code",
      "source": [
        "list(enumerate(['sdfsd','sfsf','aaaaa'], start = 50))"
      ],
      "metadata": {
        "id": "prMZFjirZo5k"
      },
      "execution_count": null,
      "outputs": []
    },
    {
      "cell_type": "code",
      "source": [
        "list(enumerate(days, start = 10))"
      ],
      "metadata": {
        "id": "96KPKkvDR1BL"
      },
      "execution_count": null,
      "outputs": []
    },
    {
      "cell_type": "code",
      "source": [
        "list(enumerate(days, start = 100))"
      ],
      "metadata": {
        "id": "EUA8Z6CD0xSt"
      },
      "execution_count": null,
      "outputs": []
    },
    {
      "cell_type": "code",
      "source": [
        "list(enumerate(days, start = 10))"
      ],
      "metadata": {
        "id": "cPi64YFCtqzb"
      },
      "execution_count": null,
      "outputs": []
    },
    {
      "cell_type": "code",
      "source": [
        "x = (1,2,3,5,4,4,4)\n",
        "x[0] = 99"
      ],
      "metadata": {
        "id": "0z-PDg-9y0QN"
      },
      "execution_count": null,
      "outputs": []
    },
    {
      "cell_type": "code",
      "source": [
        "list(enumerate(days, start = 99))"
      ],
      "metadata": {
        "id": "aa4gKhK0kEok"
      },
      "execution_count": null,
      "outputs": []
    },
    {
      "cell_type": "code",
      "source": [
        "# using enumerate reduces code and provides a counter\n",
        "days = [\"Sun\", \"Mon\", \"Tue\", \"Wed\", \"Thu\", \"Fri\", \"Sat\"]\n",
        "print(list(enumerate(days, start = 10)))"
      ],
      "metadata": {
        "id": "8IoADOf9RR90"
      },
      "execution_count": null,
      "outputs": []
    },
    {
      "cell_type": "code",
      "source": [
        "x = list(enumerate(days))\n",
        "x"
      ],
      "metadata": {
        "id": "srHCdu5oaXI9"
      },
      "execution_count": null,
      "outputs": []
    },
    {
      "cell_type": "code",
      "metadata": {
        "id": "0zMrbSnH_Mje"
      },
      "source": [
        "# using enumerate reduces code and provides a counter\n",
        "days = [\"Sun\", \"Mon\", \"Tue\", \"Wed\", \"Thu\", \"Fri\", \"Sat\"]\n",
        "\n",
        "for x in enumerate(days):\n",
        "    print(x[0] ,x[1])"
      ],
      "execution_count": null,
      "outputs": []
    },
    {
      "cell_type": "code",
      "source": [
        "for i, x in enumerate(days):\n",
        "    print(i, x)"
      ],
      "metadata": {
        "id": "bepXmGWsrtYB"
      },
      "execution_count": null,
      "outputs": []
    },
    {
      "cell_type": "code",
      "source": [
        "l1 = [1,2,3, 4, 5]\n",
        "l2 = ['a','b','c']\n",
        "\n",
        "x = list(zip(l1, l2, l1, l2, l1))\n",
        "x"
      ],
      "metadata": {
        "id": "OwmeQjFIbRUE"
      },
      "execution_count": null,
      "outputs": []
    },
    {
      "cell_type": "code",
      "source": [
        "x[1][2] = 5"
      ],
      "metadata": {
        "id": "Fl57SorZvPt6"
      },
      "execution_count": null,
      "outputs": []
    },
    {
      "cell_type": "code",
      "source": [
        "l1 = [1,2,3, 4, 5]\n",
        "l2 = [5,5,5,3,4]\n",
        "l= list(zip(l1, l2))"
      ],
      "metadata": {
        "id": "KAFJd83lvQyh"
      },
      "execution_count": null,
      "outputs": []
    },
    {
      "cell_type": "code",
      "source": [
        "# cannot edit\n",
        "print(l[0])\n",
        "print(type(l[0]))\n",
        "l[0] = 1\n",
        "print(l)"
      ],
      "metadata": {
        "id": "pVJqFQPJu9Ql"
      },
      "execution_count": null,
      "outputs": []
    },
    {
      "cell_type": "code",
      "source": [
        "x = l[1]\n",
        "x"
      ],
      "metadata": {
        "id": "2Ez1VsLdvfn8"
      },
      "execution_count": null,
      "outputs": []
    },
    {
      "cell_type": "code",
      "source": [
        "x[0] = 4"
      ],
      "metadata": {
        "id": "nUvH7gGsvijE"
      },
      "execution_count": null,
      "outputs": []
    },
    {
      "cell_type": "code",
      "metadata": {
        "id": "zm42b8K9_S_W"
      },
      "source": [
        "# # use zip to combine sequences\n",
        "days = [\"Sun\", \"Mon\", \"Tue\", \"Wed\", \"Thu\", \"Fri\", \"Sat\"]\n",
        "daysFr = [\"Dim\", \"Lun\", \"Mar\", \"Mer\"]\n",
        "daysGR = [\"Dim\", \"Lun\", \"Mar\", \"Mer\", \"Jeu\", \"Ven\", \"Sam\"]\n",
        "\n",
        "for m in zip(days,daysFr,daysGR):\n",
        "    print(m[0], m[1], m[2])"
      ],
      "execution_count": null,
      "outputs": []
    },
    {
      "cell_type": "code",
      "source": [
        "list(zip(days, daysGR, daysFr))"
      ],
      "metadata": {
        "id": "Kly_hbwdVeks"
      },
      "execution_count": null,
      "outputs": []
    },
    {
      "cell_type": "code",
      "source": [
        " list(enumerate(zip(days, daysGR, daysFr), start = 10))"
      ],
      "metadata": {
        "id": "sPCH8bPOVU9U"
      },
      "execution_count": null,
      "outputs": []
    },
    {
      "cell_type": "code",
      "source": [
        "for i in list(enumerate(zip(days, daysGR, daysFr), start = 5)):\n",
        "  print(i)"
      ],
      "metadata": {
        "id": "Or6VGCM5czoR"
      },
      "execution_count": null,
      "outputs": []
    },
    {
      "cell_type": "code",
      "metadata": {
        "id": "BtUjEDlF_cEl"
      },
      "source": [
        "for i, m in enumerate(zip(days, daysGR, daysFr), start=10):\n",
        "  print(i, m)"
      ],
      "execution_count": null,
      "outputs": []
    },
    {
      "cell_type": "code",
      "metadata": {
        "id": "TeKbVfWd_ha4"
      },
      "source": [
        "for x in enumerate(days):\n",
        "    print(x[0], x[1])"
      ],
      "execution_count": null,
      "outputs": []
    },
    {
      "cell_type": "code",
      "source": [
        "x= [2,2,2,2,2]\n",
        "y = [1,2,2,5,5, 99]\n",
        "list(enumerate(list(zip(x,y))))"
      ],
      "metadata": {
        "id": "kSi8xVDvV44w"
      },
      "execution_count": null,
      "outputs": []
    },
    {
      "cell_type": "code",
      "source": [
        "days = [\"Sun\", \"Mon\", \"Tue\", \"Wed\", \"Thu\", \"Fri\", \"Sat\"]\n",
        "daysFr = [\"Dim\", \"Lun\", \"Mar\", \"Mer\"]\n",
        "for m in zip(days, daysFr):\n",
        "    print(m, type(m))"
      ],
      "metadata": {
        "id": "_hHJqN6wtZbm"
      },
      "execution_count": null,
      "outputs": []
    },
    {
      "cell_type": "code",
      "source": [
        "list(enumerate(zip(days, daysFr), start=10))"
      ],
      "metadata": {
        "id": "qZT4sMvi2LA0"
      },
      "execution_count": null,
      "outputs": []
    },
    {
      "cell_type": "code",
      "metadata": {
        "id": "BY57bS6v_nim"
      },
      "source": [
        "'''\n",
        "    Tuples are identical to lists, with the following exceptions:\n",
        "        Tuples are immutable.\n",
        "        Tuples are written with parentheses instead of square brackets.\n",
        "'''\n",
        "days = [\"Sun\", \"Mon\", \"Tue\", \"Wed\", \"Thu\", \"Fri\", \"Sat\"]\n",
        "daysFr = [\"Dim\", \"Lun\", \"Mar\", \"Mer\"]\n",
        "for m in enumerate(zip(days, daysFr), start=10):\n",
        "    print(m, type(m))"
      ],
      "execution_count": null,
      "outputs": []
    },
    {
      "cell_type": "code",
      "source": [
        "days"
      ],
      "metadata": {
        "id": "PCjAia1Zl31q"
      },
      "execution_count": null,
      "outputs": []
    },
    {
      "cell_type": "code",
      "metadata": {
        "id": "G1CI_rD2_2Q2"
      },
      "source": [
        "# use iter to create an iterator over a collection\n",
        "i = iter(days)\n",
        "print(next(i))  # Sun\n",
        "print(next(i))  # Mon\n",
        "print(next(i))  # Tue\n",
        "print(next(i))\n",
        "print(next(i))\n",
        "print(next(i))\n",
        "print(next(i))\n",
        "print(next(i, 'finished'))"
      ],
      "execution_count": null,
      "outputs": []
    },
    {
      "cell_type": "code",
      "source": [
        "i = iter(days)\n",
        "\n",
        "while True:\n",
        "  y = next(i,  'asasas')\n",
        "  if y!= 'asasas':\n",
        "    print(y)\n",
        "  else:\n",
        "    break"
      ],
      "metadata": {
        "id": "lHY_DN_8mRsw"
      },
      "execution_count": null,
      "outputs": []
    },
    {
      "cell_type": "code",
      "source": [
        "j = iter(days)\n",
        "\n",
        "for i in range(len(days)):\n",
        "  print(next(j))"
      ],
      "metadata": {
        "id": "VHIwqLTeeh-I"
      },
      "execution_count": null,
      "outputs": []
    },
    {
      "cell_type": "markdown",
      "metadata": {
        "id": "2qhbz4JFAPsO"
      },
      "source": [
        "Demonstrate how to use set comprehensions"
      ]
    },
    {
      "cell_type": "code",
      "source": [
        "ctemps = [5, 10, 12, 14, 10, 23, 41, 30, 12, 24, 12, 18, 29]\n",
        "ftemps = []\n",
        "for temp in ctemps:\n",
        "  x = (temp * 9/5) + 32\n",
        "  ftemps.append(x)\n",
        "print(ftemps)"
      ],
      "metadata": {
        "id": "fJcwl4QDS9us"
      },
      "execution_count": null,
      "outputs": []
    },
    {
      "cell_type": "code",
      "source": [
        "ftemps = [(temp * 9/5) + 32 for temp in ctemps]\n",
        "ftemps"
      ],
      "metadata": {
        "id": "zLihiW2NwmZU"
      },
      "execution_count": null,
      "outputs": []
    },
    {
      "cell_type": "code",
      "source": [
        "[(temp * 9/5) + 32 for temp in ctemps if temp%2==0 and temp<20]"
      ],
      "metadata": {
        "id": "VTEiXuUKneyj"
      },
      "execution_count": null,
      "outputs": []
    },
    {
      "cell_type": "code",
      "source": [
        "[2**i for i in range(100) ]"
      ],
      "metadata": {
        "id": "9kFwcidheOdk"
      },
      "execution_count": null,
      "outputs": []
    },
    {
      "cell_type": "code",
      "source": [
        "ftemps = [(temp * 9/5) + 32 for temp in ctemps if temp%2==0]\n",
        "ftemps"
      ],
      "metadata": {
        "id": "iZoIPuBcGBo0"
      },
      "execution_count": null,
      "outputs": []
    },
    {
      "cell_type": "code",
      "source": [
        "ftemps = [(i, (temp * 9/5) + 32) for i,temp in enumerate(ctemps) if temp%2==0]\n",
        "print(ftemps)"
      ],
      "metadata": {
        "id": "EEmhkkSbZnzc"
      },
      "execution_count": null,
      "outputs": []
    },
    {
      "cell_type": "code",
      "source": [
        "x = [5,5,5,4,4,4]\n",
        "[a*a for a in x]"
      ],
      "metadata": {
        "id": "_mmY7uGExhqR"
      },
      "execution_count": null,
      "outputs": []
    },
    {
      "cell_type": "code",
      "source": [
        "s = {1,2,3}\n",
        "for element in s:\n",
        "  print(element)"
      ],
      "metadata": {
        "id": "zSw94AjOVV_a"
      },
      "execution_count": null,
      "outputs": []
    },
    {
      "cell_type": "code",
      "source": [
        "l = [5,10,15,20]\n",
        "l2 = [t*3 for t in l]\n",
        "l2"
      ],
      "metadata": {
        "id": "Nc3uUtpAh820"
      },
      "execution_count": null,
      "outputs": []
    },
    {
      "cell_type": "code",
      "source": [
        "{1,2,3}\n",
        "{'a':1, 'b':2}"
      ],
      "metadata": {
        "id": "zMUNv_p7ephx"
      },
      "execution_count": null,
      "outputs": []
    },
    {
      "cell_type": "code",
      "metadata": {
        "id": "KxbGzv3mAA4U"
      },
      "source": [
        "ctemps = [5, 10, 12, 14, 10, 23, 41, 30, 12, 24, 12, 18, 29]\n",
        "\n",
        "# build a set of unique Fahrenheit temperatures\n",
        "ftemps1 = [ (t * 9/5) + 32 for t in ctemps ]\n",
        "ftemps2 = { (t * 9/5) + 32 for t in ctemps }\n",
        "\n",
        "print(ftemps1, type(ftemps1)) # Did you think both are the same?\n",
        "print(ftemps2, type(ftemps2))"
      ],
      "execution_count": null,
      "outputs": []
    },
    {
      "cell_type": "code",
      "source": [
        "ftemps2[1]"
      ],
      "metadata": {
        "id": "cgn8ejt5ZBBw"
      },
      "execution_count": null,
      "outputs": []
    },
    {
      "cell_type": "code",
      "source": [
        "lst1 = list(range(1,101))\n",
        "print(lst1)\n",
        "lst2 = [item**2 for item in lst1]\n",
        "print(lst2)"
      ],
      "metadata": {
        "id": "GDlW5C0DXfw3"
      },
      "execution_count": null,
      "outputs": []
    },
    {
      "cell_type": "code",
      "source": [
        "for elem in ftemps2:\n",
        "  print(elem)"
      ],
      "metadata": {
        "id": "8rIDhOzRUg2x"
      },
      "execution_count": null,
      "outputs": []
    },
    {
      "cell_type": "markdown",
      "metadata": {
        "id": "RKblTLmiBV8u"
      },
      "source": [
        "#build a set from an input source\n",
        "sTemp = \"The quick brown fox jumped over the lazy dog\""
      ]
    },
    {
      "cell_type": "code",
      "metadata": {
        "cellView": "both",
        "id": "6SCPoW5XAbd0"
      },
      "source": [
        "\n",
        "# build a set from an input source\n",
        "sTemp = \"The quick brown fox jumped over the lazy dogs\"\n",
        "chars1 = {c for c in sTemp if not c.isspace()}\n",
        "chars = {c.upper() for c in sTemp if not c.isspace()}\n",
        "\n",
        "print(len(chars1) )\n",
        "print(chars1)\n",
        "print(len(chars), type(chars))\n",
        "print(chars)"
      ],
      "execution_count": null,
      "outputs": []
    },
    {
      "cell_type": "markdown",
      "metadata": {
        "id": "4fECC-LnBxHS"
      },
      "source": [
        "# Lambda expression"
      ]
    },
    {
      "cell_type": "markdown",
      "metadata": {
        "id": "ycRDLeb5B4Wy"
      },
      "source": [
        "* lambda arguments : expression\n",
        "* anonymous functions; accept multiple arguments but expression should be one"
      ]
    },
    {
      "cell_type": "code",
      "source": [
        "x = lambda a,b,c: a+b+c\n",
        "x(1,2,3)"
      ],
      "metadata": {
        "id": "_SGPCJE7fbOS"
      },
      "execution_count": null,
      "outputs": []
    },
    {
      "cell_type": "code",
      "metadata": {
        "id": "_n0yeRfZ9vXo"
      },
      "source": [
        "new_lambda_test = lambda q, w, y, z : q + w + y + z + 10\n",
        "print(new_lambda_test(20, 20, 20, 20))"
      ],
      "execution_count": null,
      "outputs": []
    },
    {
      "cell_type": "code",
      "source": [
        "new_lambda_test = lambda q, w, y, z : q*20 + w + y + z + 10\n",
        "print(new_lambda_test(20, 20, 20, 20))"
      ],
      "metadata": {
        "id": "olpLMgsP0LNO"
      },
      "execution_count": null,
      "outputs": []
    },
    {
      "cell_type": "code",
      "metadata": {
        "id": "SW9qQ8ysBJyx"
      },
      "source": [
        "lambda_test = lambda a : a + 10\n",
        "print(lambda_test(5))\n",
        "\n",
        "new_lambda_test = lambda q, w, y, z : q + w + y + z + 10\n",
        "print(new_lambda_test(20, 20, 20, 20))"
      ],
      "execution_count": null,
      "outputs": []
    },
    {
      "cell_type": "code",
      "source": [
        "y = (1,2 ,3 ,4)\n",
        "print(type(y))\n",
        "print(y)\n",
        "for i in y:\n",
        "  print(i)\n",
        "\n",
        "y[0] = 7"
      ],
      "metadata": {
        "id": "3V-tEW-fy6Un"
      },
      "execution_count": null,
      "outputs": []
    },
    {
      "cell_type": "code",
      "source": [
        "pairs = [(1, 'one'), (2, 'two'), (3, 'three'), (4, 'four')]\n",
        "pairs.sort(key=lambda abc: abc[1] , reverse  = True) # Look carefully..\n",
        "print(pairs)"
      ],
      "metadata": {
        "id": "RBX5n_7wf6Rw"
      },
      "execution_count": null,
      "outputs": []
    },
    {
      "cell_type": "code",
      "source": [
        "mult3 = filter(lambda x: x % 3 == 0 and x<9,  [1, 2, 3, 4, 5, 6, 7, 8, 9] )\n",
        "list(mult3)"
      ],
      "metadata": {
        "id": "_QurOqNShSJl"
      },
      "execution_count": null,
      "outputs": []
    },
    {
      "cell_type": "code",
      "source": [
        "for i in mult3:\n",
        "  print(i)"
      ],
      "metadata": {
        "id": "zeZLg1E8jAeM"
      },
      "execution_count": null,
      "outputs": []
    },
    {
      "cell_type": "code",
      "source": [
        "mult3[1]"
      ],
      "metadata": {
        "id": "abtxnhPVkHOk"
      },
      "execution_count": null,
      "outputs": []
    },
    {
      "cell_type": "code",
      "source": [
        "mult3 = list(filter(lambda x: x % 3 == 0, [1, 2, 3, 4, 5, 6, 7, 8, 9]))\n",
        "print(mult3)\n",
        "print(type(mult3))"
      ],
      "metadata": {
        "id": "alQWYwYBka25"
      },
      "execution_count": null,
      "outputs": []
    },
    {
      "cell_type": "code",
      "metadata": {
        "id": "_AL05r-FC_C-"
      },
      "source": [
        "def make_incrementor(n):\n",
        "    return lambda x: x + n\n",
        "\n",
        "f = make_incrementor(45) #  lambda x: x + 45\n",
        "print(f(3))"
      ],
      "execution_count": null,
      "outputs": []
    },
    {
      "cell_type": "markdown",
      "metadata": {
        "id": "9S00tgtyDy2e"
      },
      "source": [
        "# Demonstrate how to use list comprehensions"
      ]
    },
    {
      "cell_type": "code",
      "metadata": {
        "id": "Xuc0JwFYDp70"
      },
      "source": [
        "# define two lists of numbers\n",
        "evens = [2, 4, 6, 8, 10, 12, 14, 16, 18, 20]\n",
        "odds =  [1, 3, 5, 7, 9, 11, 13, 15, 17, 19]\n",
        "\n",
        "# Derive a new list of numbers frm a given list\n",
        "evenSquared = [e ** 2 for e in evens]\n",
        "print(evenSquared)"
      ],
      "execution_count": null,
      "outputs": []
    },
    {
      "cell_type": "code",
      "source": [
        "base = [5,10,15,20,25]\n",
        "height = [5,4,5,5,4]\n",
        "\n",
        "area = [0.5*b*h for b,h in zip(base, height)]\n",
        "print(area)"
      ],
      "metadata": {
        "id": "GBXP0U6udjLh"
      },
      "execution_count": null,
      "outputs": []
    },
    {
      "cell_type": "markdown",
      "metadata": {
        "id": "HAWL6xahhQgs"
      },
      "source": [
        "The **map()** function executes a specified function for each item in a iterable. The item is sent to the function as a parameter."
      ]
    },
    {
      "cell_type": "code",
      "source": [
        "evens = [2, 4, 6, 8, 10, 12, 14, 16, 18, 20]\n",
        "odds =  [1, 3, 5, 7, 9, 11, 13, 15, 17, 19]\n",
        "\n",
        "a = list(filter(lambda e: e > 4 and e < 16, evens))\n",
        "a"
      ],
      "metadata": {
        "id": "f9rbruio1O7k"
      },
      "execution_count": null,
      "outputs": []
    },
    {
      "cell_type": "code",
      "source": [
        "list(map(lambda x: x*x, [1,2,3,4,5,6]))"
      ],
      "metadata": {
        "id": "e_9DuOHmbeQG"
      },
      "execution_count": null,
      "outputs": []
    },
    {
      "cell_type": "code",
      "source": [
        "# # Perform a mapping and filter function on a list\n",
        "evenSquared = map(lambda e: e**2, filter(lambda e: e > 4 and e < 16, evens))\n",
        "print(evenSquared)\n",
        "for i in evenSquared:\n",
        "  print(i)"
      ],
      "metadata": {
        "id": "8z6Q7aOApOJI"
      },
      "execution_count": null,
      "outputs": []
    },
    {
      "cell_type": "code",
      "metadata": {
        "id": "L3SsyPRAD7X6"
      },
      "source": [
        "# # Perform a mapping and filter function on a list\n",
        "evenSquared = list(map(lambda e: e**2, filter(lambda e: e > 4 and e < 16, evens)))\n",
        "print(evenSquared)"
      ],
      "execution_count": null,
      "outputs": []
    },
    {
      "cell_type": "code",
      "metadata": {
        "id": "wTO89UOWEDwY"
      },
      "source": [
        "evenSquared_new = [e ** 2 for e in evens if e > 4 and e < 16]\n",
        "print(evenSquared_new)"
      ],
      "execution_count": null,
      "outputs": []
    },
    {
      "cell_type": "code",
      "metadata": {
        "id": "JYYZaWBUEMNB"
      },
      "source": [
        "# Limit the items operated on with a predicate condition\n",
        "oddSquared = [e ** 2 for e in odds if e > 3 and e < 17]\n",
        "print(oddSquared)"
      ],
      "execution_count": null,
      "outputs": []
    },
    {
      "cell_type": "code",
      "source": [
        "list(map(lambda x: x*x, [1,2,3,4,5]))"
      ],
      "metadata": {
        "id": "0iDF2nba1iEq"
      },
      "execution_count": null,
      "outputs": []
    },
    {
      "cell_type": "markdown",
      "metadata": {
        "id": "QhyIfD1zE6cF"
      },
      "source": [
        "# Demonstrate the usage of Counter objects"
      ]
    },
    {
      "cell_type": "code",
      "metadata": {
        "id": "8T7de_UeEWO4"
      },
      "source": [
        "# A Counter is a container that keeps track of how many times equivalent values are added\n",
        "\n",
        "from collections import Counter\n",
        "\n",
        "# list of students in class 1\n",
        "class1 = [\"Bob\", \"James\", \"Chad\", \"Darcy\", \"Penny\", \"Hannah\"\n",
        "          \"Kevin\", \"James\", \"Melanie\", \"Becky\", \"Steve\", \"Frank\"]\n",
        "\n",
        "# list of students in class 2\n",
        "class2 = [\"Bill\", \"Barry\", \"Cindy\", \"Debbie\", \"Frank\",\n",
        "          \"Gabby\", \"Kelly\", \"James\", \"Joe\", \"Sam\", \"Tara\", \"Ziggy\"]\n",
        "\n",
        "# Create a Counter for class1 and class2\n",
        "c1 = Counter(class1)\n",
        "c2 = Counter(class2)\n",
        "print(c1)\n",
        "print(c2)\n",
        "# How many students in class 1 named James?\n",
        "print(c1[\"James\"])"
      ],
      "execution_count": null,
      "outputs": []
    },
    {
      "cell_type": "code",
      "metadata": {
        "id": "31tUhEPWFD7y"
      },
      "source": [
        "# How many students are in class 1?\n",
        "print(sum(c1.values()), \"students in class 1\")\n",
        "\n",
        "# Combine the two classes\n",
        "c1.update(class2)\n",
        "print(sum(c1.values()), \"students in class 1 and 2\")\n",
        "\n",
        "# What's the most common name in the two classes?\n",
        "print(c1.most_common(3), \"the most common name in the two classes\") # 3 is indicating --- how many\n",
        "\n",
        "# Separate the classes again\n",
        "c1.subtract(class2)\n",
        "print(c1.most_common(2))\n",
        "\n",
        "# What's common between the two classes?\n",
        "print((c1 & c2), \"common between the two classes\")"
      ],
      "execution_count": null,
      "outputs": []
    },
    {
      "cell_type": "markdown",
      "metadata": {
        "id": "eFvvSRR6G6cJ"
      },
      "source": [
        "# Demonstrate the usage of defaultdict objects\n",
        "\n",
        "A defaultdict works exactly like a normal dict, but it is initialized with a function (“default factory”) that takes no arguments and provides the default value for a nonexistent key.\n",
        "\n",
        "A defaultdict will never raise a KeyError."
      ]
    },
    {
      "cell_type": "code",
      "source": [
        "c = { 'a': 10, 'b':20 }\n",
        "c"
      ],
      "metadata": {
        "id": "TynAFJt6K97v"
      },
      "execution_count": null,
      "outputs": []
    },
    {
      "cell_type": "code",
      "source": [
        "c['nmbmbnmbm']"
      ],
      "metadata": {
        "id": "NK23dOI64f46"
      },
      "execution_count": null,
      "outputs": []
    },
    {
      "cell_type": "code",
      "source": [
        "c['d'] = 50\n",
        "c"
      ],
      "metadata": {
        "id": "wly30Bkr8NY9"
      },
      "execution_count": null,
      "outputs": []
    },
    {
      "cell_type": "code",
      "source": [
        "print(type(c))\n",
        "print(c.items()) #prints keys and values\n",
        "print(c.keys()) #prints keys\n",
        "print(c.values()) #prints values"
      ],
      "metadata": {
        "id": "RgpWX4wW4sX9"
      },
      "execution_count": null,
      "outputs": []
    },
    {
      "cell_type": "code",
      "source": [
        "c['a']"
      ],
      "metadata": {
        "id": "w1YKBv1grKgd"
      },
      "execution_count": null,
      "outputs": []
    },
    {
      "cell_type": "code",
      "source": [
        "c['fhfhfhf']"
      ],
      "metadata": {
        "id": "_n2Yzpv7LHgY"
      },
      "execution_count": null,
      "outputs": []
    },
    {
      "cell_type": "code",
      "source": [
        "dict = {'a':1,'b':2}\n",
        "print(dict['ukn'])"
      ],
      "metadata": {
        "id": "b0LCbsSUcj8A"
      },
      "execution_count": null,
      "outputs": []
    },
    {
      "cell_type": "code",
      "source": [],
      "metadata": {
        "id": "xCmr-XvH4reu"
      },
      "execution_count": null,
      "outputs": []
    },
    {
      "cell_type": "code",
      "metadata": {
        "id": "pC3BVFcNFYHr"
      },
      "source": [
        "from collections import defaultdict\n",
        "\n",
        "ice_cream = defaultdict(lambda: 'There is no such word')\n",
        "ice_cream['Sarah'] = 'Chunky Monkey'\n",
        "ice_cream['Abdul'] = 'Butter Pecan'\n",
        "print(ice_cream['Abdul'])\n",
        "print(ice_cream['gjgjgj'])"
      ],
      "execution_count": null,
      "outputs": []
    },
    {
      "cell_type": "markdown",
      "metadata": {
        "id": "TM1PJ7ieHmht"
      },
      "source": [
        "# Demonstrate how to use dictionary comprehensions"
      ]
    },
    {
      "cell_type": "code",
      "metadata": {
        "id": "Z5QGg1ZMGVSx"
      },
      "source": [
        "# define a list of temperature values\n",
        "ctemps = [0, 12, 34, 100]\n",
        "\n",
        "# Use a comprehension to build a dictionary\n",
        "tempDict = {t: (t * 9/5) + 32 for t in ctemps if t < 100}\n",
        "print(tempDict)\n",
        "\n",
        "print(\"\\n\")\n",
        "\n",
        "print(tempDict[12]) # access individual element\n",
        "print(tempDict[34])\n",
        "print(tempDict.keys())"
      ],
      "execution_count": null,
      "outputs": []
    },
    {
      "cell_type": "code",
      "source": [
        "width = [5,10,15,20,25,30]\n",
        "height = [10,15,20,25,30]\n",
        "\n",
        "area = [ (i,t[0]*t[1]) for i,t in enumerate(zip(width, height))]\n",
        "area"
      ],
      "metadata": {
        "id": "1xf75myWf6t6"
      },
      "execution_count": null,
      "outputs": []
    },
    {
      "cell_type": "code",
      "metadata": {
        "id": "EHK8sruTHvNG"
      },
      "source": [
        "[i for i in range(1,1000) if '3' in str(i)]"
      ],
      "execution_count": null,
      "outputs": []
    },
    {
      "cell_type": "code",
      "source": [
        "[i for i in range(1, 1001) if (str(i)).count('3') > 0]"
      ],
      "metadata": {
        "id": "LKsnwHBB7Fr9"
      },
      "execution_count": null,
      "outputs": []
    },
    {
      "cell_type": "code",
      "source": [],
      "metadata": {
        "id": "Q9fVisgIAPYA"
      },
      "execution_count": null,
      "outputs": []
    }
  ]
}