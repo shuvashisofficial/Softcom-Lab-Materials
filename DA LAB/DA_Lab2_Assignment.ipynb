{
  "nbformat": 4,
  "nbformat_minor": 0,
  "metadata": {
    "colab": {
      "provenance": []
    },
    "kernelspec": {
      "name": "python3",
      "display_name": "Python 3"
    },
    "language_info": {
      "name": "python"
    }
  },
  "cells": [
    {
      "cell_type": "code",
      "execution_count": null,
      "metadata": {
        "id": "yrPXqY7C0qs9"
      },
      "outputs": [],
      "source": [
        "!apt-get install openjdk-8-jdk-headless -qq > /dev/null\n",
        "\n",
        "# Install Spark (change the version number if needed)\n",
        "!wget -q https://archive.apache.org/dist/spark/spark-3.0.3/spark-3.0.3-bin-hadoop3.2.tgz\n",
        "\n",
        "# Unzip the Spark file to the current folder\n",
        "!tar xf spark-3.0.3-bin-hadoop3.2.tgz\n",
        "\n",
        "# Install findspark\n",
        "!pip install -q findspark\n",
        "\n",
        "# Set environment variables\n",
        "import os\n",
        "os.environ[\"JAVA_HOME\"] = \"/usr/lib/jvm/java-8-openjdk-amd64\"\n",
        "os.environ[\"SPARK_HOME\"] = \"/content/spark-3.0.3-bin-hadoop3.2\"\n",
        "\n",
        "# Start a SparkSession\n",
        "import findspark\n",
        "findspark.init()\n",
        "\n",
        "# Import SparkSession\n",
        "from pyspark.sql import SparkSession\n",
        "\n",
        "# Initialize SparkSession\n",
        "spark = SparkSession.builder.master(\"local[*]\").getOrCreate()\n"
      ]
    },
    {
      "cell_type": "code",
      "source": [
        "from pyspark.sql import SparkSession\n",
        "from pyspark.sql.types import StructType, StructField, StringType, IntegerType, FloatType, DateType\n",
        "\n",
        "# Create a SparkSession\n",
        "spark = SparkSession.builder \\\n",
        "    .appName(\"CreateDataFrame\") \\\n",
        "    .getOrCreate()\n",
        "\n",
        "# Define schema for the DataFrame\n",
        "schema = StructType([\n",
        "    StructField(\"emp_id\", IntegerType(), True),\n",
        "    StructField(\"emp_name\", StringType(), True),\n",
        "    StructField(\"job_name\", StringType(), True),\n",
        "    StructField(\"manager_id\", IntegerType(), True),\n",
        "    StructField(\"hire_date\", StringType(), True),\n",
        "    StructField(\"salary\", FloatType(), True),\n",
        "    StructField(\"commission\", FloatType(), True),\n",
        "    StructField(\"dep_id\", IntegerType(), True)\n",
        "])\n",
        "\n",
        "# Create a list of tuples containing the data\n",
        "data = [\n",
        "    (68319, \"KAYLING\", \"PRESIDENT\", None, \"1991-11-18\", 6000.00, None, 1001),\n",
        "    (66928, \"BLAZE\", \"MANAGER\", 68319, \"1991-05-01\", 2750.00, None, 3001),\n",
        "    (67832, \"CLARE\", \"MANAGER\", 68319, \"1991-06-09\", 2550.00, None, 1001),\n",
        "    (65646, \"JONAS\", \"MANAGER\", 68319, \"1991-04-02\", 2957.00, None, 2001),\n",
        "    (67858, \"SCARLET\", \"ANALYST\", 65646, \"1997-04-19\", 3100.00, None, 2001),\n",
        "    (69062, \"FRANK\", \"ANALYST\", 65646, \"1991-12-03\", 3100.00, None, 2001),\n",
        "    (63679, \"SANDRINE\", \"CLERK\", 69062, \"1990-12-18\", 900.00, None, 2001),\n",
        "    (64989, \"ADELYN\", \"SALESMAN\", 66928, \"1991-02-20\", 1700.00, 400.00, 3001),\n",
        "    (65271, \"WADE\", \"SALESMAN\", 66928, \"1991-02-22\", 1350.00, 600.00, 3001),\n",
        "    (66564, \"MADDEN\", \"SALESMAN\", 66928, \"1991-09-28\", 1350.00, 1500.00, 3001),\n",
        "    (68454, \"TUCKER\", \"SALESMAN\", 66928, \"1991-09-08\", 1600.00, 0.00, 3001),\n",
        "    (68736, \"ADNRES\", \"CLERK\", 67858, \"1997-05-23\", 1200.00, None, 2001),\n",
        "    (69000, \"JULIUS\", \"CLERK\", 66928, \"1991-12-03\", 1050.00, None, 3001),\n",
        "    (69324, \"MARKER\", \"CLERK\", 67832, \"1992-01-23\", 1400.00, None, 1001)\n",
        "]\n",
        "\n",
        "# Create DataFrame\n",
        "emp_df = spark.createDataFrame(data, schema)\n",
        "\n",
        "# Show DataFrame\n",
        "emp_df.show()\n",
        "department_schema = StructType([\n",
        "    StructField(\"dep_id\", IntegerType(), True),\n",
        "    StructField(\"dep_name\", StringType(), True),\n",
        "    StructField(\"dep_location\", StringType(), True)\n",
        "])\n",
        "\n",
        "# Create a list of tuples containing department data\n",
        "department_data = [\n",
        "    (1001, \"FINANCE\", \"SYDNEY\"),\n",
        "    (2001, \"AUDIT\", \"MELBOURNE\"),\n",
        "    (3001, \"MARKETING\", \"PERTH\"),\n",
        "    (4001, \"PRODUCTION\", \"BRISBANE\")\n",
        "]\n",
        "dep_df = spark.createDataFrame(department_data, department_schema)\n",
        "\n",
        "# Show Department DataFrame\n",
        "dep_df.show()"
      ],
      "metadata": {
        "colab": {
          "base_uri": "https://localhost:8080/"
        },
        "id": "YLncKDhDynEk",
        "outputId": "e7cc0784-d6ea-400a-bb1b-7c4c275149ec"
      },
      "execution_count": null,
      "outputs": [
        {
          "output_type": "stream",
          "name": "stdout",
          "text": [
            "+------+--------+---------+----------+----------+------+----------+------+\n",
            "|emp_id|emp_name| job_name|manager_id| hire_date|salary|commission|dep_id|\n",
            "+------+--------+---------+----------+----------+------+----------+------+\n",
            "| 68319| KAYLING|PRESIDENT|      null|1991-11-18|6000.0|      null|  1001|\n",
            "| 66928|   BLAZE|  MANAGER|     68319|1991-05-01|2750.0|      null|  3001|\n",
            "| 67832|   CLARE|  MANAGER|     68319|1991-06-09|2550.0|      null|  1001|\n",
            "| 65646|   JONAS|  MANAGER|     68319|1991-04-02|2957.0|      null|  2001|\n",
            "| 67858| SCARLET|  ANALYST|     65646|1997-04-19|3100.0|      null|  2001|\n",
            "| 69062|   FRANK|  ANALYST|     65646|1991-12-03|3100.0|      null|  2001|\n",
            "| 63679|SANDRINE|    CLERK|     69062|1990-12-18| 900.0|      null|  2001|\n",
            "| 64989|  ADELYN| SALESMAN|     66928|1991-02-20|1700.0|     400.0|  3001|\n",
            "| 65271|    WADE| SALESMAN|     66928|1991-02-22|1350.0|     600.0|  3001|\n",
            "| 66564|  MADDEN| SALESMAN|     66928|1991-09-28|1350.0|    1500.0|  3001|\n",
            "| 68454|  TUCKER| SALESMAN|     66928|1991-09-08|1600.0|       0.0|  3001|\n",
            "| 68736|  ADNRES|    CLERK|     67858|1997-05-23|1200.0|      null|  2001|\n",
            "| 69000|  JULIUS|    CLERK|     66928|1991-12-03|1050.0|      null|  3001|\n",
            "| 69324|  MARKER|    CLERK|     67832|1992-01-23|1400.0|      null|  1001|\n",
            "+------+--------+---------+----------+----------+------+----------+------+\n",
            "\n",
            "+------+----------+------------+\n",
            "|dep_id|  dep_name|dep_location|\n",
            "+------+----------+------------+\n",
            "|  1001|   FINANCE|      SYDNEY|\n",
            "|  2001|     AUDIT|   MELBOURNE|\n",
            "|  3001| MARKETING|       PERTH|\n",
            "|  4001|PRODUCTION|    BRISBANE|\n",
            "+------+----------+------------+\n",
            "\n"
          ]
        }
      ]
    }
  ]
}