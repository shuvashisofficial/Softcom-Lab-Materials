{
  "cells": [
    {
      "cell_type": "code",
      "execution_count": 1,
      "metadata": {
        "id": "ZUAyIR-NvSNy"
      },
      "outputs": [],
      "source": [
        "!apt-get install openjdk-8-jdk-headless -qq > /dev/null\n",
        "\n",
        "# Install Spark (change the version number if needed)\n",
        "!wget -q https://archive.apache.org/dist/spark/spark-3.0.3/spark-3.0.3-bin-hadoop3.2.tgz\n",
        "\n",
        "# Unzip the Spark file to the current folder\n",
        "!tar xf spark-3.0.3-bin-hadoop3.2.tgz\n",
        "\n",
        "# Install findspark\n",
        "!pip install -q findspark\n",
        "\n",
        "# Set environment variables\n",
        "import os\n",
        "os.environ[\"JAVA_HOME\"] = \"/usr/lib/jvm/java-8-openjdk-amd64\"\n",
        "os.environ[\"SPARK_HOME\"] = \"/content/spark-3.0.3-bin-hadoop3.2\"\n",
        "\n",
        "# Start a SparkSession\n",
        "import findspark\n",
        "findspark.init()\n",
        "\n",
        "# Import SparkSession\n",
        "from pyspark.sql import SparkSession\n",
        "\n",
        "# Initialize SparkSession\n",
        "spark = SparkSession.builder.master(\"local[*]\").getOrCreate()\n"
      ]
    },
    {
      "cell_type": "code",
      "execution_count": 2,
      "metadata": {
        "colab": {
          "base_uri": "https://localhost:8080/"
        },
        "id": "mWaMoLE6vbZU",
        "outputId": "2d939b6f-f794-4dca-8612-1ece9526463e"
      },
      "outputs": [
        {
          "name": "stdout",
          "output_type": "stream",
          "text": [
            "+------+--------+---------+----------+----------+------+----------+------+\n",
            "|emp_id|emp_name| job_name|manager_id| hire_date|salary|commission|dep_id|\n",
            "+------+--------+---------+----------+----------+------+----------+------+\n",
            "| 68319| KAYLING|PRESIDENT|      null|1991-11-18|6000.0|      null|  1001|\n",
            "| 66928|   BLAZE|  MANAGER|     68319|1991-05-01|2750.0|      null|  3001|\n",
            "| 67832|   CLARE|  MANAGER|     68319|1991-06-09|2550.0|      null|  1001|\n",
            "| 65646|   JONAS|  MANAGER|     68319|1991-04-02|2957.0|      null|  2001|\n",
            "| 67858| SCARLET|  ANALYST|     65646|1997-04-19|3100.0|      null|  2001|\n",
            "| 69062|   FRANK|  ANALYST|     65646|1991-12-03|3100.0|      null|  2001|\n",
            "| 63679|SANDRINE|    CLERK|     69062|1990-12-18| 900.0|      null|  2001|\n",
            "| 64989|  ADELYN| SALESMAN|     66928|1991-02-20|1700.0|     400.0|  3001|\n",
            "| 65271|    WADE| SALESMAN|     66928|1991-02-22|1350.0|     600.0|  3001|\n",
            "| 66564|  MADDEN| SALESMAN|     66928|1991-09-28|1350.0|    1500.0|  3001|\n",
            "| 68454|  TUCKER| SALESMAN|     66928|1991-09-08|1600.0|       0.0|  3001|\n",
            "| 68736|  ADNRES|    CLERK|     67858|1997-05-23|1200.0|      null|  2001|\n",
            "| 69000|  JULIUS|    CLERK|     66928|1991-12-03|1050.0|      null|  3001|\n",
            "| 69324|  MARKER|    CLERK|     67832|1992-01-23|1400.0|      null|  1001|\n",
            "+------+--------+---------+----------+----------+------+----------+------+\n",
            "\n",
            "+------+----------+------------+\n",
            "|dep_id|  dep_name|dep_location|\n",
            "+------+----------+------------+\n",
            "|  1001|   FINANCE|      SYDNEY|\n",
            "|  2001|     AUDIT|   MELBOURNE|\n",
            "|  3001| MARKETING|       PERTH|\n",
            "|  4001|PRODUCTION|    BRISBANE|\n",
            "+------+----------+------------+\n",
            "\n"
          ]
        }
      ],
      "source": [
        "from pyspark.sql import SparkSession\n",
        "from pyspark.sql.types import StructType, StructField, StringType, IntegerType, FloatType, DateType\n",
        "\n",
        "# Create a SparkSession\n",
        "spark = SparkSession.builder \\\n",
        "    .appName(\"CreateDataFrame\") \\\n",
        "    .getOrCreate()\n",
        "\n",
        "# Define schema for the DataFrame\n",
        "schema = StructType([\n",
        "    StructField(\"emp_id\", IntegerType(), True),\n",
        "    StructField(\"emp_name\", StringType(), True),\n",
        "    StructField(\"job_name\", StringType(), True),\n",
        "    StructField(\"manager_id\", IntegerType(), True),\n",
        "    StructField(\"hire_date\", StringType(), True),\n",
        "    StructField(\"salary\", FloatType(), True),\n",
        "    StructField(\"commission\", FloatType(), True),\n",
        "    StructField(\"dep_id\", IntegerType(), True)\n",
        "])\n",
        "\n",
        "# Create a list of tuples containing the data\n",
        "data = [\n",
        "    (68319, \"KAYLING\", \"PRESIDENT\", None, \"1991-11-18\", 6000.00, None, 1001),\n",
        "    (66928, \"BLAZE\", \"MANAGER\", 68319, \"1991-05-01\", 2750.00, None, 3001),\n",
        "    (67832, \"CLARE\", \"MANAGER\", 68319, \"1991-06-09\", 2550.00, None, 1001),\n",
        "    (65646, \"JONAS\", \"MANAGER\", 68319, \"1991-04-02\", 2957.00, None, 2001),\n",
        "    (67858, \"SCARLET\", \"ANALYST\", 65646, \"1997-04-19\", 3100.00, None, 2001),\n",
        "    (69062, \"FRANK\", \"ANALYST\", 65646, \"1991-12-03\", 3100.00, None, 2001),\n",
        "    (63679, \"SANDRINE\", \"CLERK\", 69062, \"1990-12-18\", 900.00, None, 2001),\n",
        "    (64989, \"ADELYN\", \"SALESMAN\", 66928, \"1991-02-20\", 1700.00, 400.00, 3001),\n",
        "    (65271, \"WADE\", \"SALESMAN\", 66928, \"1991-02-22\", 1350.00, 600.00, 3001),\n",
        "    (66564, \"MADDEN\", \"SALESMAN\", 66928, \"1991-09-28\", 1350.00, 1500.00, 3001),\n",
        "    (68454, \"TUCKER\", \"SALESMAN\", 66928, \"1991-09-08\", 1600.00, 0.00, 3001),\n",
        "    (68736, \"ADNRES\", \"CLERK\", 67858, \"1997-05-23\", 1200.00, None, 2001),\n",
        "    (69000, \"JULIUS\", \"CLERK\", 66928, \"1991-12-03\", 1050.00, None, 3001),\n",
        "    (69324, \"MARKER\", \"CLERK\", 67832, \"1992-01-23\", 1400.00, None, 1001)\n",
        "]\n",
        "\n",
        "# Create DataFrame\n",
        "emp_df = spark.createDataFrame(data, schema)\n",
        "\n",
        "# Show DataFrame\n",
        "emp_df.show()\n",
        "department_schema = StructType([\n",
        "    StructField(\"dep_id\", IntegerType(), True),\n",
        "    StructField(\"dep_name\", StringType(), True),\n",
        "    StructField(\"dep_location\", StringType(), True)\n",
        "])\n",
        "\n",
        "# Create a list of tuples containing department data\n",
        "department_data = [\n",
        "    (1001, \"FINANCE\", \"SYDNEY\"),\n",
        "    (2001, \"AUDIT\", \"MELBOURNE\"),\n",
        "    (3001, \"MARKETING\", \"PERTH\"),\n",
        "    (4001, \"PRODUCTION\", \"BRISBANE\")\n",
        "]\n",
        "dep_df = spark.createDataFrame(department_data, department_schema)\n",
        "\n",
        "# Show Department DataFrame\n",
        "dep_df.show()"
      ]
    },
    {
      "cell_type": "markdown",
      "metadata": {
        "id": "JViue62wwpQi"
      },
      "source": [
        "Task 1: Retrieve employees' names along with their department name."
      ]
    },
    {
      "cell_type": "markdown",
      "metadata": {
        "id": "W2KWrHgXxGvM"
      },
      "source": [
        " *create temporary views for both dataframes."
      ]
    },
    {
      "cell_type": "code",
      "execution_count": 3,
      "metadata": {
        "id": "If8EsOodwDcO"
      },
      "outputs": [],
      "source": [
        "emp_df.createOrReplaceTempView(\"employees\")\n",
        "dep_df.createOrReplaceTempView(\"departments\")"
      ]
    },
    {
      "cell_type": "code",
      "execution_count": 5,
      "metadata": {
        "colab": {
          "base_uri": "https://localhost:8080/"
        },
        "id": "rHMJQIW9wHw7",
        "outputId": "c0ec20a1-d819-4872-9306-12e948e4c6b5"
      },
      "outputs": [
        {
          "name": "stdout",
          "output_type": "stream",
          "text": [
            "+------------+--------------+\n",
            "|EmployeeName|DepartmentName|\n",
            "+------------+--------------+\n",
            "|       BLAZE|     MARKETING|\n",
            "|      ADELYN|     MARKETING|\n",
            "|        WADE|     MARKETING|\n",
            "|      MADDEN|     MARKETING|\n",
            "|      TUCKER|     MARKETING|\n",
            "|      JULIUS|     MARKETING|\n",
            "|     KAYLING|       FINANCE|\n",
            "|       CLARE|       FINANCE|\n",
            "|      MARKER|       FINANCE|\n",
            "|       JONAS|         AUDIT|\n",
            "|     SCARLET|         AUDIT|\n",
            "|       FRANK|         AUDIT|\n",
            "|    SANDRINE|         AUDIT|\n",
            "|      ADNRES|         AUDIT|\n",
            "+------------+--------------+\n",
            "\n"
          ]
        }
      ],
      "source": [
        "query1 = \"SELECT emp_name AS EmployeeName, dep_name AS DepartmentName FROM employees JOIN departments ON employees.dep_id = departments.dep_id\"\n",
        "result1 = spark.sql(query1)\n",
        "result1.show()\n"
      ]
    },
    {
      "cell_type": "markdown",
      "metadata": {
        "id": "F7QPIgO_xTJD"
      },
      "source": [
        "Task 2: Display the details of all employees who have managers, along with the names of their respective managers."
      ]
    },
    {
      "cell_type": "code",
      "execution_count": 17,
      "metadata": {
        "colab": {
          "base_uri": "https://localhost:8080/"
        },
        "id": "vf2w5P0FwMAi",
        "outputId": "67699139-eb39-4f00-adfc-a47dadbdac2c"
      },
      "outputs": [
        {
          "name": "stdout",
          "output_type": "stream",
          "text": [
            "+----------+------------+--------+----------+------+-----------+------------+-----------+\n",
            "|EmployeeID|EmployeeName|     Job|  HireDate|Salary|Commisssion|DepartmentID|ManagerName|\n",
            "+----------+------------+--------+----------+------+-----------+------------+-----------+\n",
            "|     69324|      MARKER|   CLERK|1992-01-23|1400.0|       null|        1001|      CLARE|\n",
            "|     64989|      ADELYN|SALESMAN|1991-02-20|1700.0|      400.0|        3001|      BLAZE|\n",
            "|     65271|        WADE|SALESMAN|1991-02-22|1350.0|      600.0|        3001|      BLAZE|\n",
            "|     66564|      MADDEN|SALESMAN|1991-09-28|1350.0|     1500.0|        3001|      BLAZE|\n",
            "|     68454|      TUCKER|SALESMAN|1991-09-08|1600.0|        0.0|        3001|      BLAZE|\n",
            "|     69000|      JULIUS|   CLERK|1991-12-03|1050.0|       null|        3001|      BLAZE|\n",
            "|     63679|    SANDRINE|   CLERK|1990-12-18| 900.0|       null|        2001|      FRANK|\n",
            "|     67858|     SCARLET| ANALYST|1997-04-19|3100.0|       null|        2001|      JONAS|\n",
            "|     69062|       FRANK| ANALYST|1991-12-03|3100.0|       null|        2001|      JONAS|\n",
            "|     66928|       BLAZE| MANAGER|1991-05-01|2750.0|       null|        3001|    KAYLING|\n",
            "|     67832|       CLARE| MANAGER|1991-06-09|2550.0|       null|        1001|    KAYLING|\n",
            "|     65646|       JONAS| MANAGER|1991-04-02|2957.0|       null|        2001|    KAYLING|\n",
            "|     68736|      ADNRES|   CLERK|1997-05-23|1200.0|       null|        2001|    SCARLET|\n",
            "+----------+------------+--------+----------+------+-----------+------------+-----------+\n",
            "\n"
          ]
        }
      ],
      "source": [
        "query2 = \"SELECT e.emp_id as EmployeeID, e.emp_name AS EmployeeName, e.job_name AS Job,e.hire_date as HireDate,e.salary as Salary,e.commission as Commisssion,e.dep_id as DepartmentID, m.emp_name AS ManagerName FROM employees e JOIN employees m ON e.manager_id = m.emp_id WHERE e.manager_id IS NOT NULL\"\n",
        "result2 = spark.sql(query2)\n",
        "result2.show()\n"
      ]
    },
    {
      "cell_type": "markdown",
      "metadata": {
        "id": "aBP-bzpJxdRu"
      },
      "source": [
        "Task 3: Display the details of all employees, including those who don't have a manager, along with the name of their manager if they have one."
      ]
    },
    {
      "cell_type": "code",
      "execution_count": 21,
      "metadata": {
        "colab": {
          "base_uri": "https://localhost:8080/"
        },
        "id": "Ua_ta_1DxaXg",
        "outputId": "695fbd7b-9eb3-41dd-8314-1c306644831b"
      },
      "outputs": [
        {
          "name": "stdout",
          "output_type": "stream",
          "text": [
            "+----------+------------+---------+----------+------+-----------+------------+-----------+\n",
            "|EmployeeID|EmployeeName|      Job|  HireDate|Salary|Commisssion|DepartmentID|ManagerName|\n",
            "+----------+------------+---------+----------+------+-----------+------------+-----------+\n",
            "|     68319|     KAYLING|PRESIDENT|1991-11-18|6000.0|       null|        1001|       null|\n",
            "|     69324|      MARKER|    CLERK|1992-01-23|1400.0|       null|        1001|      CLARE|\n",
            "|     64989|      ADELYN| SALESMAN|1991-02-20|1700.0|      400.0|        3001|      BLAZE|\n",
            "|     65271|        WADE| SALESMAN|1991-02-22|1350.0|      600.0|        3001|      BLAZE|\n",
            "|     66564|      MADDEN| SALESMAN|1991-09-28|1350.0|     1500.0|        3001|      BLAZE|\n",
            "|     68454|      TUCKER| SALESMAN|1991-09-08|1600.0|        0.0|        3001|      BLAZE|\n",
            "|     69000|      JULIUS|    CLERK|1991-12-03|1050.0|       null|        3001|      BLAZE|\n",
            "|     63679|    SANDRINE|    CLERK|1990-12-18| 900.0|       null|        2001|      FRANK|\n",
            "|     67858|     SCARLET|  ANALYST|1997-04-19|3100.0|       null|        2001|      JONAS|\n",
            "|     69062|       FRANK|  ANALYST|1991-12-03|3100.0|       null|        2001|      JONAS|\n",
            "|     66928|       BLAZE|  MANAGER|1991-05-01|2750.0|       null|        3001|    KAYLING|\n",
            "|     67832|       CLARE|  MANAGER|1991-06-09|2550.0|       null|        1001|    KAYLING|\n",
            "|     65646|       JONAS|  MANAGER|1991-04-02|2957.0|       null|        2001|    KAYLING|\n",
            "|     68736|      ADNRES|    CLERK|1997-05-23|1200.0|       null|        2001|    SCARLET|\n",
            "+----------+------------+---------+----------+------+-----------+------------+-----------+\n",
            "\n"
          ]
        }
      ],
      "source": [
        "query3 = \"SELECT  e.emp_id as EmployeeID,e.emp_name AS EmployeeName, e.job_name AS Job,e.hire_date as HireDate,e.salary as Salary,e.commission as Commisssion,e.dep_id as DepartmentID, m.emp_name AS ManagerName FROM employees e LEFT JOIN employees m ON e.manager_id = m.emp_id\"\n",
        "result3 = spark.sql(query3)\n",
        "result3.show()\n"
      ]
    },
    {
      "cell_type": "markdown",
      "metadata": {
        "id": "l_36OTMhx3vH"
      },
      "source": [
        "Task 4: Display the details of all employees who do not have any manager."
      ]
    },
    {
      "cell_type": "code",
      "execution_count": 24,
      "metadata": {
        "colab": {
          "base_uri": "https://localhost:8080/"
        },
        "id": "p1JR3Oqgx2WS",
        "outputId": "0127a829-3ae2-4c5b-a618-6d03e4beb32c"
      },
      "outputs": [
        {
          "name": "stdout",
          "output_type": "stream",
          "text": [
            "+----------+------------+---------+----------+------+-----------+------------+\n",
            "|EmployeeID|EmployeeName|      Job|  HireDate|Salary|Commisssion|DepartmentID|\n",
            "+----------+------------+---------+----------+------+-----------+------------+\n",
            "|     68319|     KAYLING|PRESIDENT|1991-11-18|6000.0|       null|        1001|\n",
            "+----------+------------+---------+----------+------+-----------+------------+\n",
            "\n"
          ]
        }
      ],
      "source": [
        "query4 = \"SELECT emp_id as EmployeeID, emp_name AS EmployeeName, job_name AS Job,hire_date as HireDate,salary as Salary,commission as Commisssion,dep_id as DepartmentID FROM employees WHERE manager_id IS NULL\"\n",
        "result4 = spark.sql(query4)\n",
        "result4.show()\n"
      ]
    },
    {
      "cell_type": "markdown",
      "metadata": {
        "id": "oBio8RqPyCt5"
      },
      "source": [
        "Task 5: Show the details of the manager who has the most number of employees working under him/her."
      ]
    },
    {
      "cell_type": "code",
      "execution_count": 39,
      "metadata": {
        "colab": {
          "base_uri": "https://localhost:8080/"
        },
        "id": "A5GxViwLyFYN",
        "outputId": "5f5ef22f-fefe-4256-85a1-2a00e2173bc4"
      },
      "outputs": [
        {
          "name": "stdout",
          "output_type": "stream",
          "text": [
            "+----------+------------+-------+-------+----------+------+----------+------------+-----------------+\n",
            "|EmployeeID|EmployeeName|    Job|Manager|  HireDate|Salary|Commission|DepartmentID|NumberOfEmployees|\n",
            "+----------+------------+-------+-------+----------+------+----------+------------+-----------------+\n",
            "|     66928|       BLAZE|MANAGER|  68319|1991-05-01|2750.0|      null|        3001|                5|\n",
            "+----------+------------+-------+-------+----------+------+----------+------------+-----------------+\n",
            "\n"
          ]
        }
      ],
      "source": [
        "query5= \"\"\"\n",
        "WITH ManagerRank AS (\n",
        "    SELECT manager_id, COUNT(*) AS NumberOfEmployees\n",
        "    FROM employees\n",
        "    WHERE manager_id IS NOT NULL\n",
        "    GROUP BY manager_id\n",
        "    ORDER BY NumberOfEmployees DESC\n",
        "    LIMIT 1\n",
        ")\n",
        "SELECT\n",
        "    e.emp_id AS EmployeeID,\n",
        "    e.emp_name AS EmployeeName,\n",
        "    e.job_name AS Job,\n",
        "    e.manager_id AS Manager,\n",
        "    e.hire_date AS HireDate,\n",
        "    e.salary AS Salary,\n",
        "    e.commission AS Commission,\n",
        "    e.dep_id AS DepartmentID,\n",
        "    m.NumberOfEmployees AS NumberOfEmployees\n",
        "FROM employees e\n",
        "JOIN ManagerRank m ON e.emp_id = m.manager_id\n",
        "\"\"\"\n",
        "result5 = spark.sql(query5)\n",
        "result5.show()\n"
      ]
    }
  ],
  "metadata": {
    "colab": {
      "provenance": []
    },
    "kernelspec": {
      "display_name": "Python 3",
      "name": "python3"
    },
    "language_info": {
      "name": "python"
    }
  },
  "nbformat": 4,
  "nbformat_minor": 0
}
