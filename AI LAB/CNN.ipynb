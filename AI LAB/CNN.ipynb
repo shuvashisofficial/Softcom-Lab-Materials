{
  "cells": [
    {
      "cell_type": "markdown",
      "metadata": {
        "id": "u5VPZv66-M3y"
      },
      "source": [
        "#**CNN Implementation on MNIST Dataset**"
      ]
    },
    {
      "cell_type": "markdown",
      "metadata": {
        "id": "LIvmfNTM-fiy"
      },
      "source": [
        "##Importing Libraries"
      ]
    },
    {
      "cell_type": "code",
      "execution_count": null,
      "metadata": {
        "id": "pY9Zt_JRxseL"
      },
      "outputs": [],
      "source": [
        "from keras.datasets import mnist\n",
        "from matplotlib import pyplot as plt"
      ]
    },
    {
      "cell_type": "markdown",
      "metadata": {
        "id": "HC8Qxg_6_Qtc"
      },
      "source": [
        "## Loading MNIST training and test data set"
      ]
    },
    {
      "cell_type": "code",
      "execution_count": null,
      "metadata": {
        "colab": {
          "base_uri": "https://localhost:8080/"
        },
        "id": "C2fhPWPpyQIb",
        "outputId": "a309aa67-3116-4d00-c9a2-836e63e7a7ec"
      },
      "outputs": [
        {
          "name": "stdout",
          "output_type": "stream",
          "text": [
            "Downloading data from https://storage.googleapis.com/tensorflow/tf-keras-datasets/mnist.npz\n",
            "11490434/11490434 [==============================] - 0s 0us/step\n"
          ]
        }
      ],
      "source": [
        "(X_tr, y_tr), (X_te, y_te) = mnist.load_data()"
      ]
    },
    {
      "cell_type": "markdown",
      "metadata": {
        "id": "plHSPCVo-t7G"
      },
      "source": [
        "##Data Exploration"
      ]
    },
    {
      "cell_type": "code",
      "execution_count": null,
      "metadata": {
        "colab": {
          "base_uri": "https://localhost:8080/"
        },
        "id": "VeEgbBT62Diw",
        "outputId": "34168d0d-e8a0-43f0-b13d-d69d388b1861"
      },
      "outputs": [
        {
          "name": "stdout",
          "output_type": "stream",
          "text": [
            "(60000, 28, 28)\n",
            "(10000, 28, 28)\n",
            "(60000,)\n",
            "(10000,)\n"
          ]
        }
      ],
      "source": [
        "print(X_tr.shape)\n",
        "print(X_te.shape)\n",
        "print(y_tr.shape)\n",
        "print(y_te.shape)"
      ]
    },
    {
      "cell_type": "code",
      "execution_count": null,
      "metadata": {
        "colab": {
          "base_uri": "https://localhost:8080/"
        },
        "id": "h4v744PyzLZm",
        "outputId": "3ffddadc-bef2-455a-ebde-5d22661a11bc"
      },
      "outputs": [
        {
          "name": "stdout",
          "output_type": "stream",
          "text": [
            "<class 'numpy.ndarray'>\n",
            "<class 'numpy.ndarray'>\n",
            "<class 'numpy.ndarray'>\n",
            "<class 'numpy.ndarray'>\n"
          ]
        }
      ],
      "source": [
        "print(type(X_tr))\n",
        "print(type(X_te))\n",
        "print(type(y_tr))\n",
        "print(type(y_te))"
      ]
    },
    {
      "cell_type": "code",
      "execution_count": null,
      "metadata": {
        "colab": {
          "base_uri": "https://localhost:8080/"
        },
        "id": "ojRKqoJ520h5",
        "outputId": "43d8ed7f-af6f-426f-e778-a42818268deb"
      },
      "outputs": [
        {
          "data": {
            "text/plain": [
              "array([  0,   1,   2,   3,   4,   5,   6,   7,   8,   9,  10,  11,  12,\n",
              "        13,  14,  15,  16,  17,  18,  19,  20,  21,  22,  23,  24,  25,\n",
              "        26,  27,  28,  29,  30,  31,  32,  33,  34,  35,  36,  37,  38,\n",
              "        39,  40,  41,  42,  43,  44,  45,  46,  47,  48,  49,  50,  51,\n",
              "        52,  53,  54,  55,  56,  57,  58,  59,  60,  61,  62,  63,  64,\n",
              "        65,  66,  67,  68,  69,  70,  71,  72,  73,  74,  75,  76,  77,\n",
              "        78,  79,  80,  81,  82,  83,  84,  85,  86,  87,  88,  89,  90,\n",
              "        91,  92,  93,  94,  95,  96,  97,  98,  99, 100, 101, 102, 103,\n",
              "       104, 105, 106, 107, 108, 109, 110, 111, 112, 113, 114, 115, 116,\n",
              "       117, 118, 119, 120, 121, 122, 123, 124, 125, 126, 127, 128, 129,\n",
              "       130, 131, 132, 133, 134, 135, 136, 137, 138, 139, 140, 141, 142,\n",
              "       143, 144, 145, 146, 147, 148, 149, 150, 151, 152, 153, 154, 155,\n",
              "       156, 157, 158, 159, 160, 161, 162, 163, 164, 165, 166, 167, 168,\n",
              "       169, 170, 171, 172, 173, 174, 175, 176, 177, 178, 179, 180, 181,\n",
              "       182, 183, 184, 185, 186, 187, 188, 189, 190, 191, 192, 193, 194,\n",
              "       195, 196, 197, 198, 199, 200, 201, 202, 203, 204, 205, 206, 207,\n",
              "       208, 209, 210, 211, 212, 213, 214, 215, 216, 217, 218, 219, 220,\n",
              "       221, 222, 223, 224, 225, 226, 227, 228, 229, 230, 231, 232, 233,\n",
              "       234, 235, 236, 237, 238, 239, 240, 241, 242, 243, 244, 245, 246,\n",
              "       247, 248, 249, 250, 251, 252, 253, 254, 255], dtype=uint8)"
            ]
          },
          "execution_count": 5,
          "metadata": {},
          "output_type": "execute_result"
        }
      ],
      "source": [
        "import numpy as np\n",
        "np.unique(X_te)"
      ]
    },
    {
      "cell_type": "code",
      "execution_count": null,
      "metadata": {
        "colab": {
          "base_uri": "https://localhost:8080/"
        },
        "id": "0v6hmTxC3DvX",
        "outputId": "0a186b52-c6a6-413c-d54b-434c367a7a94"
      },
      "outputs": [
        {
          "data": {
            "text/plain": [
              "array([  0,   1,   2,   3,   4,   5,   6,   7,   8,   9,  10,  11,  12,\n",
              "        13,  14,  15,  16,  17,  18,  19,  20,  21,  22,  23,  24,  25,\n",
              "        26,  27,  28,  29,  30,  31,  32,  33,  34,  35,  36,  37,  38,\n",
              "        39,  40,  41,  42,  43,  44,  45,  46,  47,  48,  49,  50,  51,\n",
              "        52,  53,  54,  55,  56,  57,  58,  59,  60,  61,  62,  63,  64,\n",
              "        65,  66,  67,  68,  69,  70,  71,  72,  73,  74,  75,  76,  77,\n",
              "        78,  79,  80,  81,  82,  83,  84,  85,  86,  87,  88,  89,  90,\n",
              "        91,  92,  93,  94,  95,  96,  97,  98,  99, 100, 101, 102, 103,\n",
              "       104, 105, 106, 107, 108, 109, 110, 111, 112, 113, 114, 115, 116,\n",
              "       117, 118, 119, 120, 121, 122, 123, 124, 125, 126, 127, 128, 129,\n",
              "       130, 131, 132, 133, 134, 135, 136, 137, 138, 139, 140, 141, 142,\n",
              "       143, 144, 145, 146, 147, 148, 149, 150, 151, 152, 153, 154, 155,\n",
              "       156, 157, 158, 159, 160, 161, 162, 163, 164, 165, 166, 167, 168,\n",
              "       169, 170, 171, 172, 173, 174, 175, 176, 177, 178, 179, 180, 181,\n",
              "       182, 183, 184, 185, 186, 187, 188, 189, 190, 191, 192, 193, 194,\n",
              "       195, 196, 197, 198, 199, 200, 201, 202, 203, 204, 205, 206, 207,\n",
              "       208, 209, 210, 211, 212, 213, 214, 215, 216, 217, 218, 219, 220,\n",
              "       221, 222, 223, 224, 225, 226, 227, 228, 229, 230, 231, 232, 233,\n",
              "       234, 235, 236, 237, 238, 239, 240, 241, 242, 243, 244, 245, 246,\n",
              "       247, 248, 249, 250, 251, 252, 253, 254, 255], dtype=uint8)"
            ]
          },
          "execution_count": 6,
          "metadata": {},
          "output_type": "execute_result"
        }
      ],
      "source": [
        "np.unique(X_tr)"
      ]
    },
    {
      "cell_type": "code",
      "execution_count": null,
      "metadata": {
        "colab": {
          "base_uri": "https://localhost:8080/"
        },
        "id": "-NbaKNrR3GRk",
        "outputId": "b6aba251-19c0-4ab9-923b-ba04a4bcc55c"
      },
      "outputs": [
        {
          "data": {
            "text/plain": [
              "array([0, 1, 2, 3, 4, 5, 6, 7, 8, 9], dtype=uint8)"
            ]
          },
          "execution_count": 7,
          "metadata": {},
          "output_type": "execute_result"
        }
      ],
      "source": [
        "np.unique(y_tr)"
      ]
    },
    {
      "cell_type": "code",
      "execution_count": null,
      "metadata": {
        "colab": {
          "base_uri": "https://localhost:8080/"
        },
        "id": "5iCC0Xdw3KMv",
        "outputId": "cb5c3ad7-2ed0-40d6-a4a4-15df350e33ad"
      },
      "outputs": [
        {
          "data": {
            "text/plain": [
              "array([0, 1, 2, 3, 4, 5, 6, 7, 8, 9], dtype=uint8)"
            ]
          },
          "execution_count": 8,
          "metadata": {},
          "output_type": "execute_result"
        }
      ],
      "source": [
        "np.unique(y_te)"
      ]
    },
    {
      "cell_type": "markdown",
      "metadata": {
        "id": "Xw0f3_HE-yu-"
      },
      "source": [
        "##Data Visualization : Plotting the first 9 samples from the train dataset."
      ]
    },
    {
      "cell_type": "code",
      "execution_count": null,
      "metadata": {
        "colab": {
          "base_uri": "https://localhost:8080/",
          "height": 433
        },
        "id": "vqgUwl_izp0t",
        "outputId": "09705d43-6930-43c4-c1f3-a223e575af12"
      },
      "outputs": [
        {
          "data": {
            "image/png": "[encoded data removed]",
            "text/plain": [
              "<Figure size 640x480 with 9 Axes>"
            ]
          },
          "metadata": {},
          "output_type": "display_data"
        }
      ],
      "source": [
        "for i in range(9):\n",
        "\tplt.subplot(3,3,i+1)\n",
        "\tplt.imshow(X_tr[i], cmap=plt.get_cmap('gray'))\n",
        "plt.show()"
      ]
    },
    {
      "cell_type": "markdown",
      "metadata": {
        "id": "aITJj_kJ_Ikj"
      },
      "source": [
        "##Reshaping the image data to convert to single channel"
      ]
    },
    {
      "cell_type": "code",
      "execution_count": null,
      "metadata": {
        "id": "_Rex6A-006cJ"
      },
      "outputs": [],
      "source": [
        "X_tr = X_tr.reshape((X_tr.shape[0], 28, 28, 1))\n",
        "X_te = X_te.reshape((X_te.shape[0], 28, 28, 1))"
      ]
    },
    {
      "cell_type": "markdown",
      "metadata": {
        "id": "691KemFY_iaZ"
      },
      "source": [
        "##One hot encoding target values"
      ]
    },
    {
      "cell_type": "code",
      "execution_count": null,
      "metadata": {
        "id": "tunjo0fX_hFI"
      },
      "outputs": [],
      "source": [
        "from keras.utils import to_categorical\n",
        "y_tr = to_categorical(y_tr)\n",
        "y_te = to_categorical(y_te)"
      ]
    },
    {
      "cell_type": "markdown",
      "metadata": {
        "id": "KdLYC4FX_pfQ"
      },
      "source": [
        "##Reshaped data dimension"
      ]
    },
    {
      "cell_type": "code",
      "execution_count": null,
      "metadata": {
        "colab": {
          "base_uri": "https://localhost:8080/"
        },
        "id": "RHo5SSI41tC1",
        "outputId": "999312e5-896d-4a4a-958b-75e2676f82d0"
      },
      "outputs": [
        {
          "name": "stdout",
          "output_type": "stream",
          "text": [
            "(60000, 28, 28, 1)\n",
            "(10000, 28, 28, 1)\n",
            "(60000, 10)\n",
            "(10000, 10)\n"
          ]
        }
      ],
      "source": [
        "print(X_tr.shape)\n",
        "print(X_te.shape)\n",
        "print(y_tr.shape)\n",
        "print(y_te.shape)"
      ]
    },
    {
      "cell_type": "markdown",
      "metadata": {
        "id": "xC1JqFTu_u-3"
      },
      "source": [
        "##Normalizing: Since the grayscale image data contains pixel intensities of(0-255) hence dividing by 255 to convert range within(0-1)"
      ]
    },
    {
      "cell_type": "code",
      "execution_count": null,
      "metadata": {
        "id": "UnrW-8OW5XAf"
      },
      "outputs": [],
      "source": [
        "train_norm = X_tr.astype('float32')\n",
        "test_norm = X_te.astype('float32')\n",
        "train_norm = train_norm / 255.0\n",
        "test_norm = test_norm / 255.0"
      ]
    },
    {
      "cell_type": "markdown",
      "metadata": {
        "id": "0fKpCCSzAJKa"
      },
      "source": [
        "##Importing required libraries for model formation"
      ]
    },
    {
      "cell_type": "code",
      "execution_count": null,
      "metadata": {
        "id": "mv6nlGbn4JZI"
      },
      "outputs": [],
      "source": [
        "import tensorflow\n",
        "from keras.models import Sequential\n",
        "from tensorflow.keras import regularizers\n",
        "from tensorflow.keras import layers\n",
        "from tensorflow.keras import losses\n",
        "from keras.layers import Dense, Dropout, Flatten, Conv2D, MaxPooling2D\n",
        "from keras.initializers import Constant\n",
        "from tensorflow.keras.optimizers import Adam, SGD"
      ]
    },
    {
      "cell_type": "markdown",
      "metadata": {
        "id": "bBwdwAI8AOUP"
      },
      "source": [
        "##Building the Model"
      ]
    },
    {
      "cell_type": "code",
      "execution_count": null,
      "metadata": {
        "colab": {
          "base_uri": "https://localhost:8080/"
        },
        "id": "7W33yaEQ3tpf",
        "outputId": "555b048a-142b-4d87-dd20-45a5121856e7"
      },
      "outputs": [
        {
          "name": "stdout",
          "output_type": "stream",
          "text": [
            "Model: \"sequential\"\n",
            "_________________________________________________________________\n",
            " Layer (type)                Output Shape              Param #   \n",
            "=================================================================\n",
            " conv2d (Conv2D)             (None, 26, 26, 32)        320       \n",
            "                                                                 \n",
            " max_pooling2d (MaxPooling2D  (None, 24, 24, 32)       0         \n",
            " )                                                               \n",
            "                                                                 \n",
            " conv2d_1 (Conv2D)           (None, 22, 22, 32)        9248      \n",
            "                                                                 \n",
            " max_pooling2d_1 (MaxPooling  (None, 20, 20, 32)       0         \n",
            " 2D)                                                             \n",
            "                                                                 \n",
            " conv2d_2 (Conv2D)           (None, 18, 18, 64)        18496     \n",
            "                                                                 \n",
            " conv2d_3 (Conv2D)           (None, 16, 16, 64)        36928     \n",
            "                                                                 \n",
            " max_pooling2d_2 (MaxPooling  (None, 7, 7, 64)         0         \n",
            " 2D)                                                             \n",
            "                                                                 \n",
            " flatten (Flatten)           (None, 3136)              0         \n",
            "                                                                 \n",
            " dense (Dense)               (None, 512)               1606144   \n",
            "                                                                 \n",
            " dropout (Dropout)           (None, 512)               0         \n",
            "                                                                 \n",
            " dense_1 (Dense)             (None, 10)                5130      \n",
            "                                                                 \n",
            "=================================================================\n",
            "Total params: 1,676,266\n",
            "Trainable params: 1,676,266\n",
            "Non-trainable params: 0\n",
            "_________________________________________________________________\n"
          ]
        }
      ],
      "source": [
        "# Instantiate a Sequential model\n",
        "model = Sequential()\n",
        "\n",
        "# 1st Convolutional Layer\n",
        "model.add(Conv2D(filters=32, activation = 'relu', input_shape=(28, 28, 1), kernel_size=(3, 3), strides=(1, 1), padding='valid'))\n",
        "\n",
        "# Max Pooling\n",
        "model.add(MaxPooling2D(pool_size=(3, 3), strides=(1, 1), padding='valid'))\n",
        "\n",
        "# 2nd Convolutional Layer\n",
        "model.add(Conv2D(filters=32,  activation = 'relu', kernel_size=(3, 3), strides=(1, 1), padding='valid',kernel_regularizer = regularizers.l2( l=0.01)))\n",
        "\n",
        "# Max Pooling\n",
        "model.add(MaxPooling2D(pool_size=(3, 3), strides=(1, 1), padding='valid'))\n",
        "\n",
        "# 3rd Convolutional Layer\n",
        "model.add(Conv2D(filters=64,  activation = 'relu', kernel_size=(3, 3), strides=(1, 1), padding='valid', kernel_regularizer = regularizers.l2( l=0.01)))\n",
        "\n",
        "# 4th Convolutional Layer\n",
        "model.add(Conv2D(filters=64,  activation = 'relu', kernel_size=(3, 3), strides=(1, 1), padding='valid', kernel_regularizer = regularizers.l2( l=0.01)))\n",
        "\n",
        "# Max Pooling\n",
        "model.add(MaxPooling2D(pool_size=(3, 3), strides=(2, 2), padding='valid'))\n",
        "\n",
        "# Fully Connected layer\n",
        "model.add(Flatten())\n",
        "\n",
        "# 1st Fully Connected Layer\n",
        "model.add(Dense(512,  activation = 'relu'))\n",
        "\n",
        "#Dropout to prevent overfitting\n",
        "model.add(Dropout(0.25))\n",
        "\n",
        "# Output Layer\n",
        "# Dense 10 because we have 10 classes(0-9)\n",
        "model.add(Dense(10, activation = 'softmax'))\n",
        "\n",
        "model.summary()"
      ]
    },
    {
      "cell_type": "code",
      "execution_count": null,
      "metadata": {
        "id": "C-WanqgzBHYr"
      },
      "outputs": [],
      "source": [
        "model.compile(optimizer='Adam', loss='categorical_crossentropy', metrics=['accuracy'])"
      ]
    },
    {
      "cell_type": "markdown",
      "metadata": {
        "id": "qLrFS5TEBXgX"
      },
      "source": [
        "##Model shape"
      ]
    },
    {
      "cell_type": "code",
      "execution_count": null,
      "metadata": {
        "colab": {
          "base_uri": "https://localhost:8080/",
          "height": 1000
        },
        "id": "Uf4EpYRhBZYI",
        "outputId": "3fe38a19-7ea6-4430-9de5-34d24284287a"
      },
      "outputs": [
        {
          "data": {
            "image/png": "[encoded data removed]",
            "text/plain": [
              "<IPython.core.display.Image object>"
            ]
          },
          "execution_count": 19,
          "metadata": {},
          "output_type": "execute_result"
        }
      ],
      "source": [
        "tensorflow.keras.utils.plot_model(model, \"multi_input_and_output_model.png\", show_shapes=True)"
      ]
    },
    {
      "cell_type": "markdown",
      "metadata": {
        "id": "udwQ-eG5BJrM"
      },
      "source": [
        "##Training model"
      ]
    },
    {
      "cell_type": "code",
      "execution_count": null,
      "metadata": {
        "colab": {
          "background_save": true,
          "base_uri": "https://localhost:8080/"
        },
        "id": "IGwx2A5jFNGK",
        "outputId": "173badbb-a695-4eb3-9724-4f482e8a7c3c"
      },
      "outputs": [
        {
          "name": "stdout",
          "output_type": "stream",
          "text": [
            "Epoch 1/11\n",
            "938/938 [==============================] - 365s 387ms/step - loss: 0.3752 - accuracy: 0.9489 - val_loss: 0.1149 - val_accuracy: 0.9830\n",
            "Epoch 2/11\n",
            "938/938 [==============================] - 337s 359ms/step - loss: 0.1207 - accuracy: 0.9764 - val_loss: 0.0888 - val_accuracy: 0.9831\n",
            "Epoch 3/11\n",
            "938/938 [==============================] - 336s 359ms/step - loss: 0.0924 - accuracy: 0.9814 - val_loss: 0.0763 - val_accuracy: 0.9845\n",
            "Epoch 4/11\n",
            "938/938 [==============================] - 331s 353ms/step - loss: 0.0827 - accuracy: 0.9832 - val_loss: 0.0648 - val_accuracy: 0.9874\n",
            "Epoch 5/11\n",
            "938/938 [==============================] - 330s 352ms/step - loss: 0.0735 - accuracy: 0.9855 - val_loss: 0.0581 - val_accuracy: 0.9894\n",
            "Epoch 6/11\n",
            "938/938 [==============================] - 330s 352ms/step - loss: 0.0686 - accuracy: 0.9857 - val_loss: 0.0652 - val_accuracy: 0.9863\n",
            "Epoch 7/11\n",
            "938/938 [==============================] - 340s 362ms/step - loss: 0.0656 - accuracy: 0.9859 - val_loss: 0.0626 - val_accuracy: 0.9870\n",
            "Epoch 8/11\n",
            "938/938 [==============================] - 329s 351ms/step - loss: 0.0609 - accuracy: 0.9880 - val_loss: 0.0591 - val_accuracy: 0.9881\n",
            "Epoch 9/11\n",
            "938/938 [==============================] - 329s 351ms/step - loss: 0.0579 - accuracy: 0.9879 - val_loss: 0.0635 - val_accuracy: 0.9868\n",
            "Epoch 10/11\n",
            "938/938 [==============================] - 328s 349ms/step - loss: 0.0557 - accuracy: 0.9884 - val_loss: 0.0552 - val_accuracy: 0.9878\n",
            "Epoch 11/11\n",
            "938/938 [==============================] - 327s 348ms/step - loss: 0.0520 - accuracy: 0.9895 - val_loss: 0.0499 - val_accuracy: 0.9890\n"
          ]
        }
      ],
      "source": [
        "history = model.fit(\n",
        "    train_norm, y_tr, epochs=11, batch_size=64, validation_data=(test_norm, y_te),\n",
        ")"
      ]
    },
    {
      "cell_type": "markdown",
      "metadata": {
        "id": "b9mDPK_IBLoL"
      },
      "source": [
        "##Train vs Validation loss"
      ]
    },
    {
      "cell_type": "code",
      "execution_count": null,
      "metadata": {
        "colab": {
          "base_uri": "https://localhost:8080/",
          "height": 295
        },
        "id": "gvojfshbDgZ8",
        "outputId": "8373f935-cea1-40d8-a7d7-c02aa75a7c1c"
      },
      "outputs": [
        {
          "data": {
            "image/png": "[encoded data removed]",
            "text/plain": [
              "<Figure size 432x288 with 1 Axes>"
            ]
          },
          "metadata": {},
          "output_type": "display_data"
        }
      ],
      "source": [
        "plt.plot(history.history['loss'], label=' training data')\n",
        "plt.plot(history.history['val_loss'], label='validation data')\n",
        "plt.title('Loss for Text Classification')\n",
        "plt.ylabel('Loss value')\n",
        "plt.xlabel('No. epoch')\n",
        "plt.legend(loc=\"upper left\")\n",
        "plt.show()"
      ]
    },
    {
      "cell_type": "markdown",
      "metadata": {
        "id": "TnU7d_crBO7x"
      },
      "source": [
        "##Train vs Validation Accuracy"
      ]
    },
    {
      "cell_type": "code",
      "execution_count": null,
      "metadata": {
        "colab": {
          "base_uri": "https://localhost:8080/",
          "height": 295
        },
        "id": "8vk5UztYDtOE",
        "outputId": "c6c02e18-f6a7-4e37-e798-4b509b5c2f4f"
      },
      "outputs": [
        {
          "data": {
            "image/png": "[encoded data removed]",
            "text/plain": [
              "<Figure size 432x288 with 1 Axes>"
            ]
          },
          "metadata": {},
          "output_type": "display_data"
        }
      ],
      "source": [
        "plt.plot(history.history['accuracy'], label=' training data')\n",
        "plt.plot(history.history['val_accuracy'], label='validation data')\n",
        "plt.title('Accuracy for Text Classification')\n",
        "plt.ylabel('Accuracy value')\n",
        "plt.xlabel('No. epoch')\n",
        "plt.legend(loc=\"upper left\")\n",
        "plt.show()"
      ]
    },
    {
      "cell_type": "markdown",
      "metadata": {
        "id": "H9iGdtRyBb2t"
      },
      "source": [
        "##Results Evaluation"
      ]
    },
    {
      "cell_type": "code",
      "execution_count": null,
      "metadata": {
        "colab": {
          "base_uri": "https://localhost:8080/"
        },
        "id": "bGLM9olsD00D",
        "outputId": "fdaf8a89-4008-4ac5-818c-726742c473a2"
      },
      "outputs": [
        {
          "name": "stdout",
          "output_type": "stream",
          "text": [
            "1875/1875 [==============================] - 92s 49ms/step - loss: 0.0482 - accuracy: 0.9906\n",
            "313/313 [==============================] - 14s 44ms/step - loss: 0.0555 - accuracy: 0.9881\n"
          ]
        }
      ],
      "source": [
        "results_tr = model.evaluate(train_norm,y_tr)\n",
        "results_te = model.evaluate(test_norm,y_te)"
      ]
    },
    {
      "cell_type": "markdown",
      "metadata": {
        "id": "SVosgRchBeNo"
      },
      "source": [
        "##Train vs Test Accuracy and Loss"
      ]
    },
    {
      "cell_type": "code",
      "execution_count": null,
      "metadata": {
        "colab": {
          "base_uri": "https://localhost:8080/",
          "height": 350
        },
        "id": "B_FcpIhtBenj",
        "outputId": "1277749e-f4f7-46b0-b615-46541d5a9972"
      },
      "outputs": [
        {
          "data": {
            "image/png": "[encoded data removed]",
            "text/plain": [
              "<Figure size 360x360 with 1 Axes>"
            ]
          },
          "metadata": {},
          "output_type": "display_data"
        }
      ],
      "source": [
        "import numpy as np\n",
        "import matplotlib.pyplot as plt\n",
        "\n",
        "# creating the dataset\n",
        "data = {'Training Data':99.06, 'Testing Data':98.81}\n",
        "xaxis = list(data.keys())\n",
        "values = list(data.values())\n",
        "\n",
        "fig = plt.figure(figsize = (5, 5))\n",
        "\n",
        "# creating the bar plot\n",
        "plt.bar(xaxis, values, color ='green',\n",
        "        width = 0.4)\n",
        "\n",
        "plt.xlabel(\"Data\")\n",
        "plt.ylabel(\"Accuracy\")\n",
        "plt.title(\"Training vs Testing Accuracy\")\n",
        "plt.show()"
      ]
    },
    {
      "cell_type": "markdown",
      "metadata": {
        "id": "USfIhNsmftWe"
      },
      "source": [
        "##Training vs Testing Loss"
      ]
    },
    {
      "cell_type": "code",
      "execution_count": null,
      "metadata": {
        "colab": {
          "base_uri": "https://localhost:8080/",
          "height": 350
        },
        "id": "2HAbpV9wfsn7",
        "outputId": "5133614c-d7de-4592-9537-2c3f11d742b7"
      },
      "outputs": [
        {
          "data": {
            "image/png": "[encoded data removed]",
            "text/plain": [
              "<Figure size 360x360 with 1 Axes>"
            ]
          },
          "metadata": {},
          "output_type": "display_data"
        }
      ],
      "source": [
        "import numpy as np\n",
        "import matplotlib.pyplot as plt\n",
        "\n",
        "# creating the dataset\n",
        "data = {'Training Data':0.0482, 'Testing Data':0.0555}\n",
        "xaxis = list(data.keys())\n",
        "values = list(data.values())\n",
        "\n",
        "fig = plt.figure(figsize = (5, 5))\n",
        "\n",
        "# creating the bar plot\n",
        "plt.bar(xaxis, values, color ='red',\n",
        "        width = 0.4)\n",
        "\n",
        "plt.xlabel(\"Data\")\n",
        "plt.ylabel(\"Loss\")\n",
        "plt.title(\"Training vs Testing Loss\")\n",
        "plt.show()"
      ]
    },
    {
      "cell_type": "markdown",
      "metadata": {
        "id": "fPtamhIqBucu"
      },
      "source": [
        "##Classification Result"
      ]
    },
    {
      "cell_type": "code",
      "execution_count": null,
      "metadata": {
        "colab": {
          "base_uri": "https://localhost:8080/"
        },
        "id": "Hnx7PAgTWAjV",
        "outputId": "b81cf9a2-740b-451f-c45f-cafeeb9ff4c4"
      },
      "outputs": [
        {
          "name": "stdout",
          "output_type": "stream",
          "text": [
            "313/313 [==============================] - 14s 45ms/step\n"
          ]
        }
      ],
      "source": [
        "preds = np.round(model.predict(test_norm),0)"
      ]
    },
    {
      "cell_type": "code",
      "execution_count": null,
      "metadata": {
        "colab": {
          "base_uri": "https://localhost:8080/"
        },
        "id": "qBNYz79SWQUx",
        "outputId": "a0576223-ac56-415a-e68a-3344a1f08eba"
      },
      "outputs": [
        {
          "name": "stdout",
          "output_type": "stream",
          "text": [
            "rounded test labels [[0. 0. 0. ... 1. 0. 0.]\n",
            " [0. 0. 1. ... 0. 0. 0.]\n",
            " [0. 1. 0. ... 0. 0. 0.]\n",
            " ...\n",
            " [0. 0. 0. ... 0. 0. 0.]\n",
            " [0. 0. 0. ... 0. 0. 0.]\n",
            " [0. 0. 0. ... 0. 0. 0.]]\n"
          ]
        }
      ],
      "source": [
        "print(\"rounded test labels\",preds)"
      ]
    },
    {
      "cell_type": "code",
      "execution_count": null,
      "metadata": {
        "colab": {
          "base_uri": "https://localhost:8080/"
        },
        "id": "71oCcLpCEdrF",
        "outputId": "f009e448-6e02-471b-8841-90bf026e9570"
      },
      "outputs": [
        {
          "name": "stdout",
          "output_type": "stream",
          "text": [
            "              precision    recall  f1-score   support\n",
            "\n",
            "           0       0.99      1.00      0.99       980\n",
            "           1       1.00      0.98      0.99      1135\n",
            "           2       0.99      0.99      0.99      1032\n",
            "           3       0.98      0.99      0.99      1010\n",
            "           4       0.99      0.98      0.99       982\n",
            "           5       0.99      0.99      0.99       892\n",
            "           6       0.99      0.98      0.99       958\n",
            "           7       0.98      0.99      0.99      1028\n",
            "           8       0.98      0.99      0.99       974\n",
            "           9       0.99      0.98      0.98      1009\n",
            "\n",
            "   micro avg       0.99      0.99      0.99     10000\n",
            "   macro avg       0.99      0.99      0.99     10000\n",
            "weighted avg       0.99      0.99      0.99     10000\n",
            " samples avg       0.99      0.99      0.99     10000\n",
            "\n"
          ]
        },
        {
          "name": "stderr",
          "output_type": "stream",
          "text": [
            "/usr/local/lib/python3.7/dist-packages/sklearn/metrics/_classification.py:1318: UndefinedMetricWarning: Precision and F-score are ill-defined and being set to 0.0 in samples with no predicted labels. Use `zero_division` parameter to control this behavior.\n",
            "  _warn_prf(average, modifier, msg_start, len(result))\n"
          ]
        }
      ],
      "source": [
        "from sklearn.metrics import classification_report\n",
        "report = classification_report(y_te, preds)\n",
        "print(report)"
      ]
    },
    {
      "cell_type": "code",
      "execution_count": null,
      "metadata": {
        "id": "rlsEjVOOZVMf"
      },
      "outputs": [],
      "source": [
        "from sklearn.metrics import multilabel_confusion_matrix\n",
        "cm = multilabel_confusion_matrix(y_te, preds)"
      ]
    },
    {
      "cell_type": "code",
      "execution_count": null,
      "metadata": {
        "colab": {
          "base_uri": "https://localhost:8080/"
        },
        "id": "NU5gKYXJdQV7",
        "outputId": "f1f246ee-6bb3-4b24-a395-670c01d9e5f5"
      },
      "outputs": [
        {
          "data": {
            "text/plain": [
              "array([[[9013,    7],\n",
              "        [   3,  977]],\n",
              "\n",
              "       [[8863,    2],\n",
              "        [  25, 1110]],\n",
              "\n",
              "       [[8958,   10],\n",
              "        [   8, 1024]],\n",
              "\n",
              "       [[8971,   19],\n",
              "        [   7, 1003]],\n",
              "\n",
              "       [[9013,    5],\n",
              "        [  20,  962]],\n",
              "\n",
              "       [[9099,    9],\n",
              "        [   9,  883]],\n",
              "\n",
              "       [[9034,    8],\n",
              "        [  16,  942]],\n",
              "\n",
              "       [[8954,   18],\n",
              "        [   8, 1020]],\n",
              "\n",
              "       [[9010,   16],\n",
              "        [  10,  964]],\n",
              "\n",
              "       [[8978,   13],\n",
              "        [  23,  986]]])"
            ]
          },
          "execution_count": 59,
          "metadata": {},
          "output_type": "execute_result"
        }
      ],
      "source": [
        "cm"
      ]
    },
    {
      "cell_type": "markdown",
      "metadata": {
        "id": "NlnNeMMJlwJu"
      },
      "source": [
        "##Finding indices of Misclassified Samples"
      ]
    },
    {
      "cell_type": "code",
      "execution_count": null,
      "metadata": {
        "id": "7XLrAvaVlvLP"
      },
      "outputs": [],
      "source": [
        "temp = []\n",
        "for i in range(0,10000):\n",
        "  temp.append(np.array_equal(preds[i],y_te[i]))"
      ]
    },
    {
      "cell_type": "code",
      "execution_count": null,
      "metadata": {
        "id": "lSLCDXaTl01P"
      },
      "outputs": [],
      "source": [
        "x = {k:v for k,v in enumerate(temp) if v == False}"
      ]
    },
    {
      "cell_type": "code",
      "execution_count": null,
      "metadata": {
        "colab": {
          "base_uri": "https://localhost:8080/"
        },
        "id": "PayM5S9Om2f3",
        "outputId": "84cb9746-8efa-4236-f8a5-09986334b23d"
      },
      "outputs": [
        {
          "data": {
            "text/plain": [
              "{209: False,\n",
              " 247: False,\n",
              " 259: False,\n",
              " 321: False,\n",
              " 447: False,\n",
              " 449: False,\n",
              " 497: False,\n",
              " 582: False,\n",
              " 619: False,\n",
              " 625: False,\n",
              " 659: False,\n",
              " 674: False,\n",
              " 684: False,\n",
              " 720: False,\n",
              " 881: False,\n",
              " 882: False,\n",
              " 900: False,\n",
              " 947: False,\n",
              " 956: False,\n",
              " 1014: False,\n",
              " 1039: False,\n",
              " 1044: False,\n",
              " 1182: False,\n",
              " 1226: False,\n",
              " 1242: False,\n",
              " 1247: False,\n",
              " 1260: False,\n",
              " 1393: False,\n",
              " 1414: False,\n",
              " 1459: False,\n",
              " 1527: False,\n",
              " 1530: False,\n",
              " 1681: False,\n",
              " 1709: False,\n",
              " 1737: False,\n",
              " 1773: False,\n",
              " 1878: False,\n",
              " 1901: False,\n",
              " 2018: False,\n",
              " 2035: False,\n",
              " 2043: False,\n",
              " 2130: False,\n",
              " 2148: False,\n",
              " 2182: False,\n",
              " 2189: False,\n",
              " 2266: False,\n",
              " 2293: False,\n",
              " 2380: False,\n",
              " 2414: False,\n",
              " 2447: False,\n",
              " 2514: False,\n",
              " 2597: False,\n",
              " 2654: False,\n",
              " 2742: False,\n",
              " 2771: False,\n",
              " 2896: False,\n",
              " 2927: False,\n",
              " 2939: False,\n",
              " 2953: False,\n",
              " 2959: False,\n",
              " 2995: False,\n",
              " 3030: False,\n",
              " 3225: False,\n",
              " 3330: False,\n",
              " 3422: False,\n",
              " 3448: False,\n",
              " 3457: False,\n",
              " 3503: False,\n",
              " 3520: False,\n",
              " 3534: False,\n",
              " 3558: False,\n",
              " 3559: False,\n",
              " 3601: False,\n",
              " 3726: False,\n",
              " 3762: False,\n",
              " 3767: False,\n",
              " 3778: False,\n",
              " 3871: False,\n",
              " 3906: False,\n",
              " 3926: False,\n",
              " 3941: False,\n",
              " 4176: False,\n",
              " 4201: False,\n",
              " 4224: False,\n",
              " 4284: False,\n",
              " 4504: False,\n",
              " 4507: False,\n",
              " 4547: False,\n",
              " 4571: False,\n",
              " 4740: False,\n",
              " 4807: False,\n",
              " 4814: False,\n",
              " 4860: False,\n",
              " 4874: False,\n",
              " 4911: False,\n",
              " 5331: False,\n",
              " 5450: False,\n",
              " 5457: False,\n",
              " 5937: False,\n",
              " 6101: False,\n",
              " 6166: False,\n",
              " 6571: False,\n",
              " 6576: False,\n",
              " 6597: False,\n",
              " 6625: False,\n",
              " 6651: False,\n",
              " 6783: False,\n",
              " 6847: False,\n",
              " 6883: False,\n",
              " 7849: False,\n",
              " 7990: False,\n",
              " 8020: False,\n",
              " 8128: False,\n",
              " 8244: False,\n",
              " 8316: False,\n",
              " 8376: False,\n",
              " 8408: False,\n",
              " 8527: False,\n",
              " 9025: False,\n",
              " 9599: False,\n",
              " 9620: False,\n",
              " 9638: False,\n",
              " 9642: False,\n",
              " 9664: False,\n",
              " 9669: False,\n",
              " 9679: False,\n",
              " 9692: False,\n",
              " 9792: False,\n",
              " 9922: False}"
            ]
          },
          "execution_count": 106,
          "metadata": {},
          "output_type": "execute_result"
        }
      ],
      "source": [
        "x"
      ]
    },
    {
      "cell_type": "markdown",
      "metadata": {
        "id": "21rDO3OYh4f9"
      },
      "source": [
        "##Plotting Image no 100 of test dataset:[Correctly Classified]"
      ]
    },
    {
      "cell_type": "code",
      "execution_count": null,
      "metadata": {
        "colab": {
          "base_uri": "https://localhost:8080/",
          "height": 282
        },
        "id": "YeIrHq4BnOkm",
        "outputId": "def2b1d9-6f92-4f1d-d392-56a25aca6dea"
      },
      "outputs": [
        {
          "data": {
            "text/plain": [
              "<matplotlib.image.AxesImage at 0x7f7961debe90>"
            ]
          },
          "execution_count": 120,
          "metadata": {},
          "output_type": "execute_result"
        },
        {
          "data": {
            "image/png": "[encoded data removed]",
            "text/plain": [
              "<Figure size 432x288 with 1 Axes>"
            ]
          },
          "metadata": {},
          "output_type": "display_data"
        }
      ],
      "source": [
        "train_images = X_te[100] / 255\n",
        "import matplotlib.pyplot as plt\n",
        "plt.imshow(train_images[:,:,0], cmap='gray')"
      ]
    },
    {
      "cell_type": "markdown",
      "metadata": {
        "id": "PTC6joGNpRzp"
      },
      "source": [
        "##Plotting Image no 209 of test dataset:[Misclassified]"
      ]
    },
    {
      "cell_type": "code",
      "execution_count": null,
      "metadata": {
        "colab": {
          "base_uri": "https://localhost:8080/",
          "height": 282
        },
        "id": "lcn-aJ15pB5u",
        "outputId": "a51d8009-937e-49aa-a8cc-16975d4e2b92"
      },
      "outputs": [
        {
          "data": {
            "text/plain": [
              "<matplotlib.image.AxesImage at 0x7f7961d54a90>"
            ]
          },
          "execution_count": 121,
          "metadata": {},
          "output_type": "execute_result"
        },
        {
          "data": {
            "image/png": "[encoded data removed]",
            "text/plain": [
              "<Figure size 432x288 with 1 Axes>"
            ]
          },
          "metadata": {},
          "output_type": "display_data"
        }
      ],
      "source": [
        "train_images = X_te[209] / 255\n",
        "import matplotlib.pyplot as plt\n",
        "plt.imshow(train_images[:,:,0], cmap='gray')"
      ]
    }
  ],
  "metadata": {
    "colab": {
      "collapsed_sections": [
        "plHSPCVo-t7G",
        "Xw0f3_HE-yu-",
        "aITJj_kJ_Ikj",
        "691KemFY_iaZ",
        "KdLYC4FX_pfQ",
        "xC1JqFTu_u-3",
        "0fKpCCSzAJKa",
        "qLrFS5TEBXgX",
        "udwQ-eG5BJrM",
        "b9mDPK_IBLoL",
        "TnU7d_crBO7x",
        "H9iGdtRyBb2t",
        "SVosgRchBeNo",
        "USfIhNsmftWe",
        "fPtamhIqBucu",
        "NlnNeMMJlwJu",
        "21rDO3OYh4f9",
        "PTC6joGNpRzp"
      ],
      "provenance": []
    },
    "kernelspec": {
      "display_name": "Python 3",
      "name": "python3"
    },
    "language_info": {
      "name": "python"
    }
  },
  "nbformat": 4,
  "nbformat_minor": 0
}