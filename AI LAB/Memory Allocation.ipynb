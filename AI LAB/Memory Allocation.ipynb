{
  "nbformat": 4,
  "nbformat_minor": 0,
  "metadata": {
    "colab": {
      "provenance": []
    },
    "kernelspec": {
      "name": "python3",
      "display_name": "Python 3"
    },
    "language_info": {
      "name": "python"
    }
  },
  "cells": [
    {
      "cell_type": "code",
      "execution_count": null,
      "metadata": {
        "colab": {
          "base_uri": "https://localhost:8080/"
        },
        "id": "LiOm_CNhPuTA",
        "outputId": "ac688a13-fd47-432a-a0a2-e75dff086359"
      },
      "outputs": [
        {
          "output_type": "stream",
          "name": "stdout",
          "text": [
            "Enter the Number of Memory Holes: 5\n",
            "Memory Holes: 50 200 70 115 15\n",
            "Enter the Number of Memory Requests: 10\n",
            "Memory Requests: 100 10 35 15 23 6 25 55 88 40\n",
            "Memory Allocation Step by Step:\n",
            "100\t10\t35\t15\t23\t6\t25\t55\t88\t40\t\n",
            "50\t40\t5\t5\t5\t5\t5\t5\t5\t-2\t\n",
            "100\t100\t100\t85\t62\t56\t31\t31\t31\t-2\t\n",
            "70\t70\t70\t70\t70\t70\t70\t15\t15\t-2\t\n",
            "115\t115\t115\t115\t115\t115\t115\t115\t27\t-2\t\n",
            "15\t15\t15\t15\t15\t15\t15\t15\t15\t-2\t\n",
            "External Fragmentation = 93\n"
          ]
        }
      ],
      "source": [
        "def main():\n",
        "    m = int(input(\"Enter the Number of Memory Holes: \"))\n",
        "    mem = list(map(int, input(\"Memory Holes: \").split()))\n",
        "\n",
        "    n = int(input(\"Enter the Number of Memory Requests: \"))\n",
        "    req = list(map(int, input(\"Memory Requests: \").split()))\n",
        "\n",
        "    table = [[-2 for j in range(n)] for i in range(m)]\n",
        "\n",
        "    col = 0\n",
        "    frag = 0\n",
        "    for i in range(n):\n",
        "        check = False\n",
        "        for j in range(m):\n",
        "            if req[i] <= mem[j]:\n",
        "                check = True\n",
        "                mem[j] -= req[i]\n",
        "                break\n",
        "        if check:\n",
        "            row = 0\n",
        "            for j in range(m):\n",
        "                table[row][col] = mem[j]\n",
        "                row += 1\n",
        "            col += 1\n",
        "        if not check:\n",
        "            for i in range(m):\n",
        "                frag += mem[i]\n",
        "            break\n",
        "\n",
        "    print(\"Memory Allocation Step by Step:\")\n",
        "    for i in req:\n",
        "        print(i, end=\"\\t\")\n",
        "    print()\n",
        "    for i in range(m):\n",
        "        for j in range(n):\n",
        "            print(table[i][j], end=\"\\t\")\n",
        "        print()\n",
        "    if frag > 0:\n",
        "        print(\"External Fragmentation =\", frag)\n",
        "\n",
        "\n",
        "if __name__ == \"__main__\":\n",
        "    main()\n"
      ]
    }
  ]
}